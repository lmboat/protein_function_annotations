{
 "cells": [
  {
   "cell_type": "markdown",
   "id": "e1bc494f",
   "metadata": {},
   "source": [
    "# Identify proteins that have been targeted by ChEMBL, DrugBank and FDA"
   ]
  },
  {
   "cell_type": "code",
   "execution_count": 1,
   "id": "33205474",
   "metadata": {},
   "outputs": [],
   "source": [
    "# Author: Lisa Boatner\n",
    "# Date Created: 221128\n",
    "# Date Modified: 221206\n",
    "# Updates: "
   ]
  },
  {
   "cell_type": "markdown",
   "id": "0cc872e7",
   "metadata": {},
   "source": [
    "# Import Modules "
   ]
  },
  {
   "cell_type": "code",
   "execution_count": 2,
   "id": "fb365c88-d3c2-4f7d-b6f7-d538e320dee3",
   "metadata": {},
   "outputs": [],
   "source": [
    "import os, sys\n",
    "import pandas as pd\n",
    "import numpy as np\n",
    "from venn import venn\n",
    "from matplotlib import pyplot as plt\n",
    "from matplotlib import cm\n",
    "from matplotlib.colors import ListedColormap"
   ]
  },
  {
   "cell_type": "code",
   "execution_count": 3,
   "id": "34614aaf-d348-44e3-8452-0bbd10090077",
   "metadata": {},
   "outputs": [
    {
     "data": {
      "text/plain": [
       "'C:\\\\Users\\\\Onee-sama\\\\Documents\\\\GitHub\\\\protein_function_annotations\\\\protein_druggability_annotations\\\\data'"
      ]
     },
     "execution_count": 3,
     "metadata": {},
     "output_type": "execute_result"
    }
   ],
   "source": [
    "# assuming current directory is main folder\n",
    "os.chdir('data')\n",
    "cd = os.getcwd()\n",
    "cd"
   ]
  },
  {
   "cell_type": "code",
   "execution_count": 4,
   "id": "b03a7818",
   "metadata": {},
   "outputs": [],
   "source": [
    "# set the date for naming files\n",
    "date = '2401'"
   ]
  },
  {
   "cell_type": "markdown",
   "id": "db2dca72",
   "metadata": {},
   "source": [
    "# "
   ]
  },
  {
   "cell_type": "markdown",
   "id": "dd624dce-f493-4e1f-b3c5-a62e162d2c5e",
   "metadata": {},
   "source": [
    "# UniProtKB"
   ]
  },
  {
   "cell_type": "markdown",
   "id": "90424d40",
   "metadata": {},
   "source": [
    "## Download UniProt File with columns: Entry, Entry Name, Protein Names, Gene Names, Description, ChEMBL, DrugBank\n",
    "## https://rest.uniprot.org/uniprotkb/search?fields=accession%2Creviewed%2Cid%2Cprotein_name%2Cgene_names%2Corganism_name%2Clength%2Cgene_primary%2Cgene_synonym%2Ckeyword&format=xlsx&query=%28Human%29+AND+%28model_organism%3A9606%29+AND+%28reviewed%3Atrue%29&size=500"
   ]
  },
  {
   "cell_type": "code",
   "execution_count": 5,
   "id": "e0f7ca66-8b6c-408c-9f6b-27e264d32bc4",
   "metadata": {},
   "outputs": [
    {
     "name": "stderr",
     "output_type": "stream",
     "text": [
      "C:\\ProgramData\\anaconda3\\lib\\site-packages\\openpyxl\\styles\\stylesheet.py:226: UserWarning: Workbook contains no default style, apply openpyxl's default\n",
      "  warn(\"Workbook contains no default style, apply openpyxl's default\")\n"
     ]
    }
   ],
   "source": [
    "u_df = pd.read_excel('uniprotkb_Human_AND_model_organism_9606_2024_06_25.xlsx')"
   ]
  },
  {
   "cell_type": "code",
   "execution_count": 6,
   "id": "e88dbce5-4fe9-42eb-b40d-3e0e26161dc4",
   "metadata": {},
   "outputs": [
    {
     "data": {
      "text/plain": [
       "(20435, 9)"
      ]
     },
     "execution_count": 6,
     "metadata": {},
     "output_type": "execute_result"
    }
   ],
   "source": [
    "u_df.shape"
   ]
  },
  {
   "cell_type": "code",
   "execution_count": 7,
   "id": "08330c01-e89a-46ce-90bd-d11ba991c14d",
   "metadata": {},
   "outputs": [
    {
     "data": {
      "text/html": [
       "<div>\n",
       "<style scoped>\n",
       "    .dataframe tbody tr th:only-of-type {\n",
       "        vertical-align: middle;\n",
       "    }\n",
       "\n",
       "    .dataframe tbody tr th {\n",
       "        vertical-align: top;\n",
       "    }\n",
       "\n",
       "    .dataframe thead th {\n",
       "        text-align: right;\n",
       "    }\n",
       "</style>\n",
       "<table border=\"1\" class=\"dataframe\">\n",
       "  <thead>\n",
       "    <tr style=\"text-align: right;\">\n",
       "      <th></th>\n",
       "      <th>Entry</th>\n",
       "      <th>Entry Name</th>\n",
       "      <th>Gene Names</th>\n",
       "      <th>Gene Names (primary)</th>\n",
       "      <th>Gene Names (synonym)</th>\n",
       "      <th>Protein names</th>\n",
       "      <th>HPA</th>\n",
       "      <th>ChEMBL</th>\n",
       "      <th>DrugBank</th>\n",
       "    </tr>\n",
       "  </thead>\n",
       "  <tbody>\n",
       "    <tr>\n",
       "      <th>0</th>\n",
       "      <td>A0A087X1C5</td>\n",
       "      <td>CP2D7_HUMAN</td>\n",
       "      <td>CYP2D7</td>\n",
       "      <td>CYP2D7</td>\n",
       "      <td>NaN</td>\n",
       "      <td>Putative cytochrome P450 2D7 (EC 1.14.14.1)</td>\n",
       "      <td>NaN</td>\n",
       "      <td>CHEMBL3542437;</td>\n",
       "      <td>NaN</td>\n",
       "    </tr>\n",
       "    <tr>\n",
       "      <th>1</th>\n",
       "      <td>A0A0B4J2F0</td>\n",
       "      <td>PIOS1_HUMAN</td>\n",
       "      <td>PIGBOS1</td>\n",
       "      <td>PIGBOS1</td>\n",
       "      <td>NaN</td>\n",
       "      <td>Protein PIGBOS1 (PIGB opposite strand protein 1)</td>\n",
       "      <td>ENSG00000225973;</td>\n",
       "      <td>NaN</td>\n",
       "      <td>NaN</td>\n",
       "    </tr>\n",
       "    <tr>\n",
       "      <th>2</th>\n",
       "      <td>A0A0B4J2F2</td>\n",
       "      <td>SIK1B_HUMAN</td>\n",
       "      <td>SIK1B</td>\n",
       "      <td>SIK1B</td>\n",
       "      <td>NaN</td>\n",
       "      <td>Putative serine/threonine-protein kinase SIK1B...</td>\n",
       "      <td>NaN</td>\n",
       "      <td>NaN</td>\n",
       "      <td>NaN</td>\n",
       "    </tr>\n",
       "    <tr>\n",
       "      <th>3</th>\n",
       "      <td>A0A0C5B5G6</td>\n",
       "      <td>MOTSC_HUMAN</td>\n",
       "      <td>MT-RNR1</td>\n",
       "      <td>MT-RNR1</td>\n",
       "      <td>NaN</td>\n",
       "      <td>Mitochondrial-derived peptide MOTS-c (Mitochon...</td>\n",
       "      <td>NaN</td>\n",
       "      <td>NaN</td>\n",
       "      <td>NaN</td>\n",
       "    </tr>\n",
       "    <tr>\n",
       "      <th>4</th>\n",
       "      <td>A0A0K2S4Q6</td>\n",
       "      <td>CD3CH_HUMAN</td>\n",
       "      <td>CD300H</td>\n",
       "      <td>CD300H</td>\n",
       "      <td>NaN</td>\n",
       "      <td>Protein CD300H (CD300 antigen-like family memb...</td>\n",
       "      <td>ENSG00000284690;</td>\n",
       "      <td>NaN</td>\n",
       "      <td>NaN</td>\n",
       "    </tr>\n",
       "  </tbody>\n",
       "</table>\n",
       "</div>"
      ],
      "text/plain": [
       "        Entry   Entry Name Gene Names Gene Names (primary)  \\\n",
       "0  A0A087X1C5  CP2D7_HUMAN     CYP2D7               CYP2D7   \n",
       "1  A0A0B4J2F0  PIOS1_HUMAN    PIGBOS1              PIGBOS1   \n",
       "2  A0A0B4J2F2  SIK1B_HUMAN      SIK1B                SIK1B   \n",
       "3  A0A0C5B5G6  MOTSC_HUMAN    MT-RNR1              MT-RNR1   \n",
       "4  A0A0K2S4Q6  CD3CH_HUMAN     CD300H               CD300H   \n",
       "\n",
       "  Gene Names (synonym)                                      Protein names  \\\n",
       "0                  NaN        Putative cytochrome P450 2D7 (EC 1.14.14.1)   \n",
       "1                  NaN   Protein PIGBOS1 (PIGB opposite strand protein 1)   \n",
       "2                  NaN  Putative serine/threonine-protein kinase SIK1B...   \n",
       "3                  NaN  Mitochondrial-derived peptide MOTS-c (Mitochon...   \n",
       "4                  NaN  Protein CD300H (CD300 antigen-like family memb...   \n",
       "\n",
       "                HPA          ChEMBL DrugBank  \n",
       "0               NaN  CHEMBL3542437;      NaN  \n",
       "1  ENSG00000225973;             NaN      NaN  \n",
       "2               NaN             NaN      NaN  \n",
       "3               NaN             NaN      NaN  \n",
       "4  ENSG00000284690;             NaN      NaN  "
      ]
     },
     "execution_count": 7,
     "metadata": {},
     "output_type": "execute_result"
    }
   ],
   "source": [
    "u_df.head()"
   ]
  },
  {
   "cell_type": "code",
   "execution_count": 8,
   "id": "695479b1-5b68-4af1-be5d-db5ce589d2a6",
   "metadata": {},
   "outputs": [
    {
     "data": {
      "text/plain": [
       "['Entry',\n",
       " 'Entry Name',\n",
       " 'Gene Names',\n",
       " 'Gene Names (primary)',\n",
       " 'Gene Names (synonym)',\n",
       " 'Protein names',\n",
       " 'HPA',\n",
       " 'ChEMBL',\n",
       " 'DrugBank']"
      ]
     },
     "execution_count": 8,
     "metadata": {},
     "output_type": "execute_result"
    }
   ],
   "source": [
    "u_df.columns.to_list()"
   ]
  },
  {
   "cell_type": "code",
   "execution_count": 9,
   "id": "22134a72-f425-405f-a21d-b42c8b9ff437",
   "metadata": {},
   "outputs": [
    {
     "data": {
      "text/plain": [
       "4605"
      ]
     },
     "execution_count": 9,
     "metadata": {},
     "output_type": "execute_result"
    }
   ],
   "source": [
    "chembl_df = u_df[u_df['ChEMBL'].isna() == False]\n",
    "chembl_ids = list(chembl_df['Entry'].unique())\n",
    "len(chembl_ids)"
   ]
  },
  {
   "cell_type": "code",
   "execution_count": 10,
   "id": "65a6112e-1f58-4431-9aee-30cb2ab45ebc",
   "metadata": {},
   "outputs": [
    {
     "data": {
      "text/plain": [
       "3202"
      ]
     },
     "execution_count": 10,
     "metadata": {},
     "output_type": "execute_result"
    }
   ],
   "source": [
    "drugbank_df = u_df[u_df['DrugBank'].isna() == False]\n",
    "drugbank_ids = list(drugbank_df['Entry'].unique())\n",
    "len(drugbank_ids)"
   ]
  },
  {
   "cell_type": "markdown",
   "id": "77191d37",
   "metadata": {},
   "source": [
    "# "
   ]
  },
  {
   "cell_type": "markdown",
   "id": "804d9ff0",
   "metadata": {},
   "source": [
    "# Human Protein Atlas FDA "
   ]
  },
  {
   "cell_type": "markdown",
   "id": "053880f7",
   "metadata": {},
   "source": [
    "## Download Human Protein Atlas version 22.0\n",
    "## https://www.proteinatlas.org/about/download¶"
   ]
  },
  {
   "cell_type": "code",
   "execution_count": 11,
   "id": "3bb2d7c8",
   "metadata": {},
   "outputs": [],
   "source": [
    "h_df = pd.read_table('proteinatlas.tsv')"
   ]
  },
  {
   "cell_type": "code",
   "execution_count": 12,
   "id": "93b9fbbf",
   "metadata": {},
   "outputs": [
    {
     "data": {
      "text/plain": [
       "(20162, 89)"
      ]
     },
     "execution_count": 12,
     "metadata": {},
     "output_type": "execute_result"
    }
   ],
   "source": [
    "h_df.shape"
   ]
  },
  {
   "cell_type": "code",
   "execution_count": 13,
   "id": "ced6717c",
   "metadata": {},
   "outputs": [
    {
     "data": {
      "text/html": [
       "<div>\n",
       "<style scoped>\n",
       "    .dataframe tbody tr th:only-of-type {\n",
       "        vertical-align: middle;\n",
       "    }\n",
       "\n",
       "    .dataframe tbody tr th {\n",
       "        vertical-align: top;\n",
       "    }\n",
       "\n",
       "    .dataframe thead th {\n",
       "        text-align: right;\n",
       "    }\n",
       "</style>\n",
       "<table border=\"1\" class=\"dataframe\">\n",
       "  <thead>\n",
       "    <tr style=\"text-align: right;\">\n",
       "      <th></th>\n",
       "      <th>Gene</th>\n",
       "      <th>Gene synonym</th>\n",
       "      <th>Ensembl</th>\n",
       "      <th>Gene description</th>\n",
       "      <th>Uniprot</th>\n",
       "      <th>Chromosome</th>\n",
       "      <th>Position</th>\n",
       "      <th>Protein class</th>\n",
       "      <th>Biological process</th>\n",
       "      <th>Molecular function</th>\n",
       "      <th>...</th>\n",
       "      <th>Pathology prognostics - Lung cancer</th>\n",
       "      <th>Pathology prognostics - Melanoma</th>\n",
       "      <th>Pathology prognostics - Ovarian cancer</th>\n",
       "      <th>Pathology prognostics - Pancreatic cancer</th>\n",
       "      <th>Pathology prognostics - Prostate cancer</th>\n",
       "      <th>Pathology prognostics - Renal cancer</th>\n",
       "      <th>Pathology prognostics - Stomach cancer</th>\n",
       "      <th>Pathology prognostics - Testis cancer</th>\n",
       "      <th>Pathology prognostics - Thyroid cancer</th>\n",
       "      <th>Pathology prognostics - Urothelial cancer</th>\n",
       "    </tr>\n",
       "  </thead>\n",
       "  <tbody>\n",
       "    <tr>\n",
       "      <th>0</th>\n",
       "      <td>TSPAN6</td>\n",
       "      <td>T245, TM4SF6, TSPAN-6</td>\n",
       "      <td>ENSG00000000003</td>\n",
       "      <td>Tetraspanin 6</td>\n",
       "      <td>O43657</td>\n",
       "      <td>X</td>\n",
       "      <td>100627108-100639991</td>\n",
       "      <td>Predicted intracellular proteins, Predicted me...</td>\n",
       "      <td>NaN</td>\n",
       "      <td>NaN</td>\n",
       "      <td>...</td>\n",
       "      <td>unprognostic (1.09e-2)</td>\n",
       "      <td>unprognostic (1.19e-2)</td>\n",
       "      <td>unprognostic (1.80e-3)</td>\n",
       "      <td>unprognostic (2.04e-3)</td>\n",
       "      <td>unprognostic (8.76e-2)</td>\n",
       "      <td>unprognostic (3.83e-3)</td>\n",
       "      <td>unprognostic (4.28e-2)</td>\n",
       "      <td>unprognostic (1.14e-1)</td>\n",
       "      <td>unprognostic (2.24e-1)</td>\n",
       "      <td>unprognostic (9.54e-3)</td>\n",
       "    </tr>\n",
       "    <tr>\n",
       "      <th>1</th>\n",
       "      <td>TNMD</td>\n",
       "      <td>BRICD4, ChM1L, myodulin, TEM, tendin</td>\n",
       "      <td>ENSG00000000005</td>\n",
       "      <td>Tenomodulin</td>\n",
       "      <td>Q9H2S6</td>\n",
       "      <td>X</td>\n",
       "      <td>100584936-100599885</td>\n",
       "      <td>Predicted membrane proteins</td>\n",
       "      <td>NaN</td>\n",
       "      <td>NaN</td>\n",
       "      <td>...</td>\n",
       "      <td>NaN</td>\n",
       "      <td>NaN</td>\n",
       "      <td>unprognostic (2.15e-1)</td>\n",
       "      <td>unprognostic (2.36e-2)</td>\n",
       "      <td>unprognostic (1.37e-1)</td>\n",
       "      <td>unprognostic (9.40e-2)</td>\n",
       "      <td>unprognostic (9.60e-4)</td>\n",
       "      <td>unprognostic (6.82e-2)</td>\n",
       "      <td>unprognostic (5.67e-2)</td>\n",
       "      <td>unprognostic (1.48e-1)</td>\n",
       "    </tr>\n",
       "    <tr>\n",
       "      <th>2</th>\n",
       "      <td>DPM1</td>\n",
       "      <td>CDGIE, MPDS</td>\n",
       "      <td>ENSG00000000419</td>\n",
       "      <td>Dolichyl-phosphate mannosyltransferase subunit...</td>\n",
       "      <td>O60762</td>\n",
       "      <td>20</td>\n",
       "      <td>50934867-50959140</td>\n",
       "      <td>Disease related genes, Enzymes, Human disease ...</td>\n",
       "      <td>NaN</td>\n",
       "      <td>Glycosyltransferase, Transferase</td>\n",
       "      <td>...</td>\n",
       "      <td>unprognostic (1.10e-1)</td>\n",
       "      <td>unprognostic (7.49e-2)</td>\n",
       "      <td>unprognostic (2.53e-2)</td>\n",
       "      <td>unprognostic (1.29e-2)</td>\n",
       "      <td>unprognostic (3.61e-2)</td>\n",
       "      <td>unprognostic (3.02e-3)</td>\n",
       "      <td>unprognostic (4.98e-2)</td>\n",
       "      <td>unprognostic (2.59e-1)</td>\n",
       "      <td>unprognostic (3.58e-1)</td>\n",
       "      <td>unprognostic (2.74e-1)</td>\n",
       "    </tr>\n",
       "    <tr>\n",
       "      <th>3</th>\n",
       "      <td>SCYL3</td>\n",
       "      <td>PACE-1, PACE1</td>\n",
       "      <td>ENSG00000000457</td>\n",
       "      <td>SCY1 like pseudokinase 3</td>\n",
       "      <td>Q8IZE3</td>\n",
       "      <td>1</td>\n",
       "      <td>169849631-169894267</td>\n",
       "      <td>Enzymes, Predicted intracellular proteins</td>\n",
       "      <td>NaN</td>\n",
       "      <td>NaN</td>\n",
       "      <td>...</td>\n",
       "      <td>unprognostic (2.12e-2)</td>\n",
       "      <td>unprognostic (2.85e-2)</td>\n",
       "      <td>unprognostic (7.17e-2)</td>\n",
       "      <td>unprognostic (8.80e-2)</td>\n",
       "      <td>unprognostic (9.88e-2)</td>\n",
       "      <td>unprognostic (1.20e-3)</td>\n",
       "      <td>unprognostic (3.54e-1)</td>\n",
       "      <td>unprognostic (1.75e-1)</td>\n",
       "      <td>unprognostic (4.60e-2)</td>\n",
       "      <td>prognostic favorable (8.85e-4)</td>\n",
       "    </tr>\n",
       "    <tr>\n",
       "      <th>4</th>\n",
       "      <td>C1orf112</td>\n",
       "      <td>FLJ10706</td>\n",
       "      <td>ENSG00000000460</td>\n",
       "      <td>Chromosome 1 open reading frame 112</td>\n",
       "      <td>Q9NSG2</td>\n",
       "      <td>1</td>\n",
       "      <td>169662007-169854080</td>\n",
       "      <td>Predicted intracellular proteins</td>\n",
       "      <td>NaN</td>\n",
       "      <td>NaN</td>\n",
       "      <td>...</td>\n",
       "      <td>unprognostic (2.09e-1)</td>\n",
       "      <td>unprognostic (9.11e-3)</td>\n",
       "      <td>unprognostic (8.79e-2)</td>\n",
       "      <td>unprognostic (3.47e-3)</td>\n",
       "      <td>unprognostic (5.97e-2)</td>\n",
       "      <td>unprognostic (1.65e-8)</td>\n",
       "      <td>unprognostic (1.76e-1)</td>\n",
       "      <td>unprognostic (2.81e-2)</td>\n",
       "      <td>unprognostic (6.17e-2)</td>\n",
       "      <td>unprognostic (2.63e-1)</td>\n",
       "    </tr>\n",
       "  </tbody>\n",
       "</table>\n",
       "<p>5 rows × 89 columns</p>\n",
       "</div>"
      ],
      "text/plain": [
       "       Gene                          Gene synonym          Ensembl  \\\n",
       "0    TSPAN6                 T245, TM4SF6, TSPAN-6  ENSG00000000003   \n",
       "1      TNMD  BRICD4, ChM1L, myodulin, TEM, tendin  ENSG00000000005   \n",
       "2      DPM1                           CDGIE, MPDS  ENSG00000000419   \n",
       "3     SCYL3                         PACE-1, PACE1  ENSG00000000457   \n",
       "4  C1orf112                              FLJ10706  ENSG00000000460   \n",
       "\n",
       "                                    Gene description Uniprot Chromosome  \\\n",
       "0                                      Tetraspanin 6  O43657          X   \n",
       "1                                        Tenomodulin  Q9H2S6          X   \n",
       "2  Dolichyl-phosphate mannosyltransferase subunit...  O60762         20   \n",
       "3                           SCY1 like pseudokinase 3  Q8IZE3          1   \n",
       "4                Chromosome 1 open reading frame 112  Q9NSG2          1   \n",
       "\n",
       "              Position                                      Protein class  \\\n",
       "0  100627108-100639991  Predicted intracellular proteins, Predicted me...   \n",
       "1  100584936-100599885                        Predicted membrane proteins   \n",
       "2    50934867-50959140  Disease related genes, Enzymes, Human disease ...   \n",
       "3  169849631-169894267          Enzymes, Predicted intracellular proteins   \n",
       "4  169662007-169854080                   Predicted intracellular proteins   \n",
       "\n",
       "  Biological process                Molecular function  ...  \\\n",
       "0                NaN                               NaN  ...   \n",
       "1                NaN                               NaN  ...   \n",
       "2                NaN  Glycosyltransferase, Transferase  ...   \n",
       "3                NaN                               NaN  ...   \n",
       "4                NaN                               NaN  ...   \n",
       "\n",
       "  Pathology prognostics - Lung cancer Pathology prognostics - Melanoma  \\\n",
       "0              unprognostic (1.09e-2)           unprognostic (1.19e-2)   \n",
       "1                                 NaN                              NaN   \n",
       "2              unprognostic (1.10e-1)           unprognostic (7.49e-2)   \n",
       "3              unprognostic (2.12e-2)           unprognostic (2.85e-2)   \n",
       "4              unprognostic (2.09e-1)           unprognostic (9.11e-3)   \n",
       "\n",
       "  Pathology prognostics - Ovarian cancer  \\\n",
       "0                 unprognostic (1.80e-3)   \n",
       "1                 unprognostic (2.15e-1)   \n",
       "2                 unprognostic (2.53e-2)   \n",
       "3                 unprognostic (7.17e-2)   \n",
       "4                 unprognostic (8.79e-2)   \n",
       "\n",
       "  Pathology prognostics - Pancreatic cancer  \\\n",
       "0                    unprognostic (2.04e-3)   \n",
       "1                    unprognostic (2.36e-2)   \n",
       "2                    unprognostic (1.29e-2)   \n",
       "3                    unprognostic (8.80e-2)   \n",
       "4                    unprognostic (3.47e-3)   \n",
       "\n",
       "  Pathology prognostics - Prostate cancer  \\\n",
       "0                  unprognostic (8.76e-2)   \n",
       "1                  unprognostic (1.37e-1)   \n",
       "2                  unprognostic (3.61e-2)   \n",
       "3                  unprognostic (9.88e-2)   \n",
       "4                  unprognostic (5.97e-2)   \n",
       "\n",
       "  Pathology prognostics - Renal cancer Pathology prognostics - Stomach cancer  \\\n",
       "0               unprognostic (3.83e-3)                 unprognostic (4.28e-2)   \n",
       "1               unprognostic (9.40e-2)                 unprognostic (9.60e-4)   \n",
       "2               unprognostic (3.02e-3)                 unprognostic (4.98e-2)   \n",
       "3               unprognostic (1.20e-3)                 unprognostic (3.54e-1)   \n",
       "4               unprognostic (1.65e-8)                 unprognostic (1.76e-1)   \n",
       "\n",
       "   Pathology prognostics - Testis cancer  \\\n",
       "0                 unprognostic (1.14e-1)   \n",
       "1                 unprognostic (6.82e-2)   \n",
       "2                 unprognostic (2.59e-1)   \n",
       "3                 unprognostic (1.75e-1)   \n",
       "4                 unprognostic (2.81e-2)   \n",
       "\n",
       "  Pathology prognostics - Thyroid cancer  \\\n",
       "0                 unprognostic (2.24e-1)   \n",
       "1                 unprognostic (5.67e-2)   \n",
       "2                 unprognostic (3.58e-1)   \n",
       "3                 unprognostic (4.60e-2)   \n",
       "4                 unprognostic (6.17e-2)   \n",
       "\n",
       "  Pathology prognostics - Urothelial cancer  \n",
       "0                    unprognostic (9.54e-3)  \n",
       "1                    unprognostic (1.48e-1)  \n",
       "2                    unprognostic (2.74e-1)  \n",
       "3            prognostic favorable (8.85e-4)  \n",
       "4                    unprognostic (2.63e-1)  \n",
       "\n",
       "[5 rows x 89 columns]"
      ]
     },
     "execution_count": 13,
     "metadata": {},
     "output_type": "execute_result"
    }
   ],
   "source": [
    "h_df.head()"
   ]
  },
  {
   "cell_type": "code",
   "execution_count": 14,
   "id": "31a4c2ab",
   "metadata": {},
   "outputs": [],
   "source": [
    "# create FDA label\n",
    "h_fda = h_df['Protein class'].str.contains('FDA approved drug targets')\n",
    "h_df['HPA'] = True\n",
    "h_df['FDA'] = h_fda"
   ]
  },
  {
   "cell_type": "code",
   "execution_count": 15,
   "id": "5056dec6",
   "metadata": {},
   "outputs": [
    {
     "data": {
      "text/plain": [
       "851"
      ]
     },
     "execution_count": 15,
     "metadata": {},
     "output_type": "execute_result"
    }
   ],
   "source": [
    "h_fda_df = h_df[h_df['FDA'] == True]\n",
    "fda_ids = list(h_fda_df['Uniprot'].unique())\n",
    "len(fda_ids)"
   ]
  },
  {
   "cell_type": "markdown",
   "id": "ce1bfb6d",
   "metadata": {},
   "source": [
    "# "
   ]
  },
  {
   "cell_type": "markdown",
   "id": "730196b6",
   "metadata": {},
   "source": [
    "# Merge UniProtKB and FDA "
   ]
  },
  {
   "cell_type": "code",
   "execution_count": 16,
   "id": "bb5fd452",
   "metadata": {},
   "outputs": [
    {
     "data": {
      "text/plain": [
       "yes    849\n",
       "Name: FDA, dtype: int64"
      ]
     },
     "execution_count": 16,
     "metadata": {},
     "output_type": "execute_result"
    }
   ],
   "source": [
    "u_df['FDA'] = np.where(u_df['Entry'].isin(fda_ids), 'yes', None)\n",
    "u_df['FDA'].value_counts()"
   ]
  },
  {
   "cell_type": "code",
   "execution_count": 17,
   "id": "c59136e9",
   "metadata": {},
   "outputs": [],
   "source": [
    "u_df.to_csv(date + '_uniprot_annotated_druggability.csv', index = False)"
   ]
  },
  {
   "cell_type": "markdown",
   "id": "dda57c18",
   "metadata": {},
   "source": [
    "# "
   ]
  },
  {
   "cell_type": "markdown",
   "id": "6a0833d8",
   "metadata": {},
   "source": [
    "# Read Experimental Results"
   ]
  },
  {
   "cell_type": "code",
   "execution_count": 18,
   "id": "e974af1d",
   "metadata": {},
   "outputs": [],
   "source": [
    "# read csv file, specify enrichment at the protein level or cysteine level\n",
    "# specify the name of the csv file you want to analyze\n",
    "# ex. filename: 'compiled_proteins.csv'\n",
    "df = pd.read_csv('compiled_proteins.csv')"
   ]
  },
  {
   "cell_type": "code",
   "execution_count": 19,
   "id": "ecbb012c",
   "metadata": {},
   "outputs": [
    {
     "data": {
      "text/plain": [
       "(1710, 32)"
      ]
     },
     "execution_count": 19,
     "metadata": {},
     "output_type": "execute_result"
    }
   ],
   "source": [
    "df.shape"
   ]
  },
  {
   "cell_type": "code",
   "execution_count": 20,
   "id": "914f5c2d",
   "metadata": {},
   "outputs": [
    {
     "data": {
      "text/html": [
       "<div>\n",
       "<style scoped>\n",
       "    .dataframe tbody tr th:only-of-type {\n",
       "        vertical-align: middle;\n",
       "    }\n",
       "\n",
       "    .dataframe tbody tr th {\n",
       "        vertical-align: top;\n",
       "    }\n",
       "\n",
       "    .dataframe thead th {\n",
       "        text-align: right;\n",
       "    }\n",
       "</style>\n",
       "<table border=\"1\" class=\"dataframe\">\n",
       "  <thead>\n",
       "    <tr style=\"text-align: right;\">\n",
       "      <th></th>\n",
       "      <th>protein</th>\n",
       "      <th>description</th>\n",
       "      <th>gene</th>\n",
       "      <th>identifiers</th>\n",
       "      <th>peptides</th>\n",
       "      <th>peptide_count</th>\n",
       "      <th>spectral_count</th>\n",
       "      <th>modifications</th>\n",
       "      <th>modification_count</th>\n",
       "      <th>amino_acids</th>\n",
       "      <th>...</th>\n",
       "      <th>Experiment-1_avg_of_medians</th>\n",
       "      <th>Experiment-2_avg_of_medians</th>\n",
       "      <th>Experiment-1_stdev_of_medians</th>\n",
       "      <th>Experiment-2_stdev_of_medians</th>\n",
       "      <th>total_quant_list</th>\n",
       "      <th>Experiment-1_Exp1_Replicate-2_median</th>\n",
       "      <th>Experiment-1_Exp1_Replicate-1_median</th>\n",
       "      <th>Experiment-2_Exp2-Replicate-1_median</th>\n",
       "      <th>Experiment-2_Exp2-Replicate-2_median</th>\n",
       "      <th>Unnamed: 31</th>\n",
       "    </tr>\n",
       "  </thead>\n",
       "  <tbody>\n",
       "    <tr>\n",
       "      <th>0</th>\n",
       "      <td>Q86X55</td>\n",
       "      <td>Histone-arginine methyltransferase CARM1</td>\n",
       "      <td>CARM1</td>\n",
       "      <td>Q86X55_C26</td>\n",
       "      <td>AAAAAAVGPGAGGAGSAVPGGAGPC*ATVSVFPGAR</td>\n",
       "      <td>1</td>\n",
       "      <td>3</td>\n",
       "      <td>25_C[527.3213];25_C[521.3074]</td>\n",
       "      <td>2</td>\n",
       "      <td>C</td>\n",
       "      <td>...</td>\n",
       "      <td>1.291182</td>\n",
       "      <td>1.295200</td>\n",
       "      <td>NaN</td>\n",
       "      <td>NaN</td>\n",
       "      <td>1.2911815216979126;1.295200001608753</td>\n",
       "      <td>1.291182</td>\n",
       "      <td>NaN</td>\n",
       "      <td>1.295200</td>\n",
       "      <td>NaN</td>\n",
       "      <td>NaN</td>\n",
       "    </tr>\n",
       "    <tr>\n",
       "      <th>1</th>\n",
       "      <td>Q99615</td>\n",
       "      <td>DnaJ homolog subfamily C member 7</td>\n",
       "      <td>DNAJC7</td>\n",
       "      <td>Q99615_C7</td>\n",
       "      <td>AAAAEC*DVVMAATEPELLDDQEAKR</td>\n",
       "      <td>1</td>\n",
       "      <td>3</td>\n",
       "      <td>6_C[521.3074];6_C[527.3213]</td>\n",
       "      <td>2</td>\n",
       "      <td>C</td>\n",
       "      <td>...</td>\n",
       "      <td>1.347838</td>\n",
       "      <td>4.039893</td>\n",
       "      <td>NaN</td>\n",
       "      <td>NaN</td>\n",
       "      <td>1.3478380214036192;4.039893401046718</td>\n",
       "      <td>1.347838</td>\n",
       "      <td>NaN</td>\n",
       "      <td>4.039893</td>\n",
       "      <td>NaN</td>\n",
       "      <td>NaN</td>\n",
       "    </tr>\n",
       "    <tr>\n",
       "      <th>2</th>\n",
       "      <td>Q5SRE5</td>\n",
       "      <td>Nucleoporin NUP188 homolog</td>\n",
       "      <td>NUP188</td>\n",
       "      <td>Q5SRE5_C9;Q5SRE5_C1270</td>\n",
       "      <td>AAAAGGPC*VR;HSLALGSATEDKDSMETDDC*SR</td>\n",
       "      <td>2</td>\n",
       "      <td>4</td>\n",
       "      <td>8_C[527.3213];8_C[521.3074];20_C[527.3213];20_...</td>\n",
       "      <td>4</td>\n",
       "      <td>C</td>\n",
       "      <td>...</td>\n",
       "      <td>1.020498</td>\n",
       "      <td>0.846141</td>\n",
       "      <td>NaN</td>\n",
       "      <td>NaN</td>\n",
       "      <td>1.0204981401893118;0.8102536010867071;0.882029...</td>\n",
       "      <td>1.020498</td>\n",
       "      <td>NaN</td>\n",
       "      <td>0.846141</td>\n",
       "      <td>NaN</td>\n",
       "      <td>NaN</td>\n",
       "    </tr>\n",
       "    <tr>\n",
       "      <th>3</th>\n",
       "      <td>Q8IYU8</td>\n",
       "      <td>Calcium uptake protein 2; mitochondrial</td>\n",
       "      <td>MICU2</td>\n",
       "      <td>Q8IYU8_C8</td>\n",
       "      <td>AAAAGSC*AR</td>\n",
       "      <td>1</td>\n",
       "      <td>2</td>\n",
       "      <td>7_C[527.3213];7_C[521.3074]</td>\n",
       "      <td>2</td>\n",
       "      <td>C</td>\n",
       "      <td>...</td>\n",
       "      <td>1.050002</td>\n",
       "      <td>NaN</td>\n",
       "      <td>NaN</td>\n",
       "      <td>NaN</td>\n",
       "      <td>1.0500022223666556</td>\n",
       "      <td>1.050002</td>\n",
       "      <td>NaN</td>\n",
       "      <td>NaN</td>\n",
       "      <td>NaN</td>\n",
       "      <td>NaN</td>\n",
       "    </tr>\n",
       "    <tr>\n",
       "      <th>4</th>\n",
       "      <td>Q9NRL3</td>\n",
       "      <td>Striatin-4</td>\n",
       "      <td>STRN4</td>\n",
       "      <td>Q9NRL3_C17</td>\n",
       "      <td>AAAAVAAAASSC*RPLGSGAGPGPTGAAPVSAPAPGPGPAGK</td>\n",
       "      <td>1</td>\n",
       "      <td>2</td>\n",
       "      <td>12_C[527.3213];12_C[521.3074]</td>\n",
       "      <td>2</td>\n",
       "      <td>C</td>\n",
       "      <td>...</td>\n",
       "      <td>1.432112</td>\n",
       "      <td>NaN</td>\n",
       "      <td>NaN</td>\n",
       "      <td>NaN</td>\n",
       "      <td>1.432112392544983</td>\n",
       "      <td>1.432112</td>\n",
       "      <td>NaN</td>\n",
       "      <td>NaN</td>\n",
       "      <td>NaN</td>\n",
       "      <td>NaN</td>\n",
       "    </tr>\n",
       "  </tbody>\n",
       "</table>\n",
       "<p>5 rows × 32 columns</p>\n",
       "</div>"
      ],
      "text/plain": [
       "  protein                               description    gene  \\\n",
       "0  Q86X55  Histone-arginine methyltransferase CARM1   CARM1   \n",
       "1  Q99615         DnaJ homolog subfamily C member 7  DNAJC7   \n",
       "2  Q5SRE5                Nucleoporin NUP188 homolog  NUP188   \n",
       "3  Q8IYU8   Calcium uptake protein 2; mitochondrial   MICU2   \n",
       "4  Q9NRL3                                Striatin-4   STRN4   \n",
       "\n",
       "              identifiers                                    peptides  \\\n",
       "0              Q86X55_C26        AAAAAAVGPGAGGAGSAVPGGAGPC*ATVSVFPGAR   \n",
       "1               Q99615_C7                  AAAAEC*DVVMAATEPELLDDQEAKR   \n",
       "2  Q5SRE5_C9;Q5SRE5_C1270         AAAAGGPC*VR;HSLALGSATEDKDSMETDDC*SR   \n",
       "3               Q8IYU8_C8                                  AAAAGSC*AR   \n",
       "4              Q9NRL3_C17  AAAAVAAAASSC*RPLGSGAGPGPTGAAPVSAPAPGPGPAGK   \n",
       "\n",
       "   peptide_count  spectral_count  \\\n",
       "0              1               3   \n",
       "1              1               3   \n",
       "2              2               4   \n",
       "3              1               2   \n",
       "4              1               2   \n",
       "\n",
       "                                       modifications  modification_count  \\\n",
       "0                      25_C[527.3213];25_C[521.3074]                   2   \n",
       "1                        6_C[521.3074];6_C[527.3213]                   2   \n",
       "2  8_C[527.3213];8_C[521.3074];20_C[527.3213];20_...                   4   \n",
       "3                        7_C[527.3213];7_C[521.3074]                   2   \n",
       "4                      12_C[527.3213];12_C[521.3074]                   2   \n",
       "\n",
       "  amino_acids  ...  Experiment-1_avg_of_medians Experiment-2_avg_of_medians  \\\n",
       "0           C  ...                     1.291182                    1.295200   \n",
       "1           C  ...                     1.347838                    4.039893   \n",
       "2           C  ...                     1.020498                    0.846141   \n",
       "3           C  ...                     1.050002                         NaN   \n",
       "4           C  ...                     1.432112                         NaN   \n",
       "\n",
       "   Experiment-1_stdev_of_medians  Experiment-2_stdev_of_medians  \\\n",
       "0                            NaN                            NaN   \n",
       "1                            NaN                            NaN   \n",
       "2                            NaN                            NaN   \n",
       "3                            NaN                            NaN   \n",
       "4                            NaN                            NaN   \n",
       "\n",
       "                                    total_quant_list  \\\n",
       "0               1.2911815216979126;1.295200001608753   \n",
       "1               1.3478380214036192;4.039893401046718   \n",
       "2  1.0204981401893118;0.8102536010867071;0.882029...   \n",
       "3                                 1.0500022223666556   \n",
       "4                                  1.432112392544983   \n",
       "\n",
       "   Experiment-1_Exp1_Replicate-2_median  Experiment-1_Exp1_Replicate-1_median  \\\n",
       "0                              1.291182                                   NaN   \n",
       "1                              1.347838                                   NaN   \n",
       "2                              1.020498                                   NaN   \n",
       "3                              1.050002                                   NaN   \n",
       "4                              1.432112                                   NaN   \n",
       "\n",
       "   Experiment-2_Exp2-Replicate-1_median  Experiment-2_Exp2-Replicate-2_median  \\\n",
       "0                              1.295200                                   NaN   \n",
       "1                              4.039893                                   NaN   \n",
       "2                              0.846141                                   NaN   \n",
       "3                                   NaN                                   NaN   \n",
       "4                                   NaN                                   NaN   \n",
       "\n",
       "   Unnamed: 31  \n",
       "0          NaN  \n",
       "1          NaN  \n",
       "2          NaN  \n",
       "3          NaN  \n",
       "4          NaN  \n",
       "\n",
       "[5 rows x 32 columns]"
      ]
     },
     "execution_count": 20,
     "metadata": {},
     "output_type": "execute_result"
    }
   ],
   "source": [
    "df.head()"
   ]
  },
  {
   "cell_type": "code",
   "execution_count": 21,
   "id": "673821bb",
   "metadata": {},
   "outputs": [
    {
     "data": {
      "text/plain": [
       "['protein',\n",
       " 'description',\n",
       " 'gene',\n",
       " 'identifiers',\n",
       " 'peptides',\n",
       " 'peptide_count',\n",
       " 'spectral_count',\n",
       " 'modifications',\n",
       " 'modification_count',\n",
       " 'amino_acids',\n",
       " 'amino_acid_count',\n",
       " 'modification_masses',\n",
       " 'no_of_experiments_count',\n",
       " 'no_of_replicates_count',\n",
       " 'Experiment-1_experiment_count',\n",
       " 'Experiment-2_experiment_count',\n",
       " 'Experiment-1_Exp1_Replicate-2_replicate_count',\n",
       " 'Experiment-1_Exp1_Replicate-1_replicate_count',\n",
       " 'Experiment-2_Exp2-Replicate-1_replicate_count',\n",
       " 'Experiment-2_Exp2-Replicate-2_replicate_count',\n",
       " 'aggregate_avg_of_avg_of_medians',\n",
       " 'aggregate_stdev_of_avg_of_medians',\n",
       " 'Experiment-1_avg_of_medians',\n",
       " 'Experiment-2_avg_of_medians',\n",
       " 'Experiment-1_stdev_of_medians',\n",
       " 'Experiment-2_stdev_of_medians',\n",
       " 'total_quant_list',\n",
       " 'Experiment-1_Exp1_Replicate-2_median',\n",
       " 'Experiment-1_Exp1_Replicate-1_median',\n",
       " 'Experiment-2_Exp2-Replicate-1_median',\n",
       " 'Experiment-2_Exp2-Replicate-2_median',\n",
       " 'Unnamed: 31']"
      ]
     },
     "execution_count": 21,
     "metadata": {},
     "output_type": "execute_result"
    }
   ],
   "source": [
    "df.columns.to_list()"
   ]
  },
  {
   "cell_type": "code",
   "execution_count": 23,
   "id": "aea01e9e",
   "metadata": {},
   "outputs": [],
   "source": [
    "# # subset dataset based on criteria\n",
    "# df = df[df[['your_column_name'] == 'specific_value']]\n",
    "# specify experimental group as all genes with \n",
    "# log2ratio >= X or log2ratio <= X\n",
    "# ex. column name for selecting cutoff: 'aggregate_avg_of_avg_of_medians'\n",
    "# ex. log2ratio cuttoff: 2\n",
    "cutoff = 2\n",
    "lig_df = df[df['aggregate_avg_of_avg_of_medians'] >= cutoff]\n",
    "lig_ids = list(lig_df['protein'].unique())"
   ]
  },
  {
   "cell_type": "markdown",
   "id": "7a0963bc",
   "metadata": {},
   "source": [
    "# "
   ]
  },
  {
   "cell_type": "markdown",
   "id": "cf1ae39d",
   "metadata": {},
   "source": [
    "# Compare the number of ligandable proteins to those that have been targeted by ChEMBL, DrugBank and FDA "
   ]
  },
  {
   "cell_type": "code",
   "execution_count": 54,
   "id": "b45c5755",
   "metadata": {},
   "outputs": [],
   "source": [
    "def get_drug_venn(df, name, colors):\n",
    "\n",
    "    cmp = ListedColormap(colors)\n",
    "\n",
    "    v = venn(df,\n",
    "            fontsize=15, \n",
    "            cmap = cmp,\n",
    "            legend_loc=\"upper center\",\n",
    "            figsize =(10, 8),\n",
    "            alpha = 0.5)\n",
    "    \n",
    "    plt.savefig(date + '_' + name + '_venn.png', dpi = 300, bbox_inches = 'tight')\n",
    "    plt.show()"
   ]
  },
  {
   "cell_type": "code",
   "execution_count": 58,
   "id": "1265cbc1",
   "metadata": {},
   "outputs": [],
   "source": [
    "# create sets of protein ids for each group\n",
    "drug_comparison = {\n",
    "    'Ligandable': set(lig_ids),\n",
    "    'ChEMBL': set(chembl_ids),\n",
    "    'DrugBank': set(drugbank_ids),\n",
    "    'FDA': set(fda_ids)\n",
    "}"
   ]
  },
  {
   "cell_type": "code",
   "execution_count": 59,
   "id": "e59612be",
   "metadata": {},
   "outputs": [
    {
     "data": {
      "text/plain": [
       "(186, 4605, 3202, 851)"
      ]
     },
     "execution_count": 59,
     "metadata": {},
     "output_type": "execute_result"
    }
   ],
   "source": [
    "# print raw number of unique proteins in each group\n",
    "len(lig_ids), len(chembl_ids), len(drugbank_ids), len(fda_ids)"
   ]
  },
  {
   "cell_type": "code",
   "execution_count": 60,
   "id": "4449da82",
   "metadata": {},
   "outputs": [],
   "source": [
    "# set name of output file, list of 4 colors for each group\n",
    "output_filename = 'drug_comparison'\n",
    "venn_colors = [\"#43cd80\", \"deeppink\", \"firebrick\", \"darkmagenta\"]"
   ]
  },
  {
   "cell_type": "code",
   "execution_count": 61,
   "id": "f29a57e4",
   "metadata": {},
   "outputs": [
    {
     "data": {
      "image/png": "[encoded data removed]",
      "text/plain": [
       "<Figure size 1000x800 with 1 Axes>"
      ]
     },
     "metadata": {},
     "output_type": "display_data"
    }
   ],
   "source": [
    "# create 4-way venn for common protein ids across the 4 groups\n",
    "# options: drug_comparison dictionary, name of output file, list of 4 colors for each group\n",
    "get_drug_venn(drug_comparison, \n",
    "              output_filename, \n",
    "              venn_colors)"
   ]
  },
  {
   "cell_type": "code",
   "execution_count": null,
   "id": "407162d6",
   "metadata": {},
   "outputs": [],
   "source": []
  }
 ],
 "metadata": {
  "kernelspec": {
   "display_name": "Python 3 (ipykernel)",
   "language": "python",
   "name": "python3"
  },
  "language_info": {
   "codemirror_mode": {
    "name": "ipython",
    "version": 3
   },
   "file_extension": ".py",
   "mimetype": "text/x-python",
   "name": "python",
   "nbconvert_exporter": "python",
   "pygments_lexer": "ipython3",
   "version": "3.10.9"
  }
 },
 "nbformat": 4,
 "nbformat_minor": 5
}
