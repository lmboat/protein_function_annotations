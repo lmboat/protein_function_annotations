{
 "cells": [
  {
   "cell_type": "markdown",
   "id": "d7f2a1ef",
   "metadata": {},
   "source": [
    "# Gene set enrichment analysis using a custom background gene set from the entire human proteome to proteins detected by chemoproteomics"
   ]
  },
  {
   "cell_type": "code",
   "execution_count": 1,
   "id": "8e5f38a7",
   "metadata": {},
   "outputs": [],
   "source": [
    "# Author: Lisa Boatner\n",
    "# Date Created: 221128\n",
    "# Date Modified: 221206\n",
    "# Updates: Removed NaN from Gene List"
   ]
  },
  {
   "cell_type": "markdown",
   "id": "428fdcb6-4611-4541-b598-148d286b7b77",
   "metadata": {},
   "source": [
    "# Import Modules"
   ]
  },
  {
   "cell_type": "markdown",
   "id": "becca828-9b08-40a4-96f6-2798c06a0159",
   "metadata": {},
   "source": [
    "### Documentation for GSEAPY module: https://gseapy.readthedocs.io/en/latest/introduction.html"
   ]
  },
  {
   "cell_type": "code",
   "execution_count": 2,
   "id": "5f9cfca8-6f65-412b-b31e-b0fdf399a79e",
   "metadata": {},
   "outputs": [
    {
     "name": "stdout",
     "output_type": "stream",
     "text": [
      "Requirement already satisfied: gseapy in /opt/conda/lib/python3.11/site-packages (1.1.0)\n",
      "Requirement already satisfied: numpy>=1.13.0 in /opt/conda/lib/python3.11/site-packages (from gseapy) (1.24.4)\n",
      "Requirement already satisfied: scipy in /opt/conda/lib/python3.11/site-packages (from gseapy) (1.11.2)\n",
      "Requirement already satisfied: pandas in /opt/conda/lib/python3.11/site-packages (from gseapy) (2.1.0)\n",
      "Requirement already satisfied: matplotlib>=2.2 in /opt/conda/lib/python3.11/site-packages (from gseapy) (3.7.2)\n",
      "Requirement already satisfied: requests in /opt/conda/lib/python3.11/site-packages (from gseapy) (2.31.0)\n",
      "Requirement already satisfied: contourpy>=1.0.1 in /opt/conda/lib/python3.11/site-packages (from matplotlib>=2.2->gseapy) (1.1.0)\n",
      "Requirement already satisfied: cycler>=0.10 in /opt/conda/lib/python3.11/site-packages (from matplotlib>=2.2->gseapy) (0.11.0)\n",
      "Requirement already satisfied: fonttools>=4.22.0 in /opt/conda/lib/python3.11/site-packages (from matplotlib>=2.2->gseapy) (4.42.1)\n",
      "Requirement already satisfied: kiwisolver>=1.0.1 in /opt/conda/lib/python3.11/site-packages (from matplotlib>=2.2->gseapy) (1.4.5)\n",
      "Requirement already satisfied: packaging>=20.0 in /opt/conda/lib/python3.11/site-packages (from matplotlib>=2.2->gseapy) (23.1)\n",
      "Requirement already satisfied: pillow>=6.2.0 in /opt/conda/lib/python3.11/site-packages (from matplotlib>=2.2->gseapy) (10.0.0)\n",
      "Requirement already satisfied: pyparsing<3.1,>=2.3.1 in /opt/conda/lib/python3.11/site-packages (from matplotlib>=2.2->gseapy) (3.0.9)\n",
      "Requirement already satisfied: python-dateutil>=2.7 in /opt/conda/lib/python3.11/site-packages (from matplotlib>=2.2->gseapy) (2.8.2)\n",
      "Requirement already satisfied: pytz>=2020.1 in /opt/conda/lib/python3.11/site-packages (from pandas->gseapy) (2023.3.post1)\n",
      "Requirement already satisfied: tzdata>=2022.1 in /opt/conda/lib/python3.11/site-packages (from pandas->gseapy) (2023.3)\n",
      "Requirement already satisfied: charset-normalizer<4,>=2 in /opt/conda/lib/python3.11/site-packages (from requests->gseapy) (3.2.0)\n",
      "Requirement already satisfied: idna<4,>=2.5 in /opt/conda/lib/python3.11/site-packages (from requests->gseapy) (3.4)\n",
      "Requirement already satisfied: urllib3<3,>=1.21.1 in /opt/conda/lib/python3.11/site-packages (from requests->gseapy) (1.26.16)\n",
      "Requirement already satisfied: certifi>=2017.4.17 in /opt/conda/lib/python3.11/site-packages (from requests->gseapy) (2023.7.22)\n",
      "Requirement already satisfied: six>=1.5 in /opt/conda/lib/python3.11/site-packages (from python-dateutil>=2.7->matplotlib>=2.2->gseapy) (1.16.0)\n",
      "Note: you may need to restart the kernel to use updated packages.\n"
     ]
    }
   ],
   "source": [
    "pip install gseapy"
   ]
  },
  {
   "cell_type": "code",
   "execution_count": 3,
   "id": "fe657020",
   "metadata": {},
   "outputs": [],
   "source": [
    "import os, sys\n",
    "import numpy as np\n",
    "import pandas as pd\n",
    "import csv\n",
    "import seaborn as sns\n",
    "import matplotlib\n",
    "import matplotlib.pyplot as plt\n",
    "from matplotlib.pyplot import figure\n",
    "from matplotlib import cm\n",
    "from matplotlib.colors import ListedColormap\n",
    "import gseapy as gp\n",
    "from gseapy import barplot, dotplot"
   ]
  },
  {
   "cell_type": "markdown",
   "id": "93da6e53-26e0-4195-a521-5d53ce2e5b1f",
   "metadata": {},
   "source": [
    "## Define Functions"
   ]
  },
  {
   "cell_type": "code",
   "execution_count": 4,
   "id": "cb682205",
   "metadata": {},
   "outputs": [],
   "source": [
    "def get_enrichment(gene_id_list, enrichr_lib, background_custom, background_list):\n",
    "    if background_custom == True:\n",
    "        enr = gp.enrichr(gene_list = gene_id_list,\n",
    "                 gene_sets=[enrichr_lib],\n",
    "                 background = background_list,\n",
    "                 organism='human', \n",
    "                 outdir=None, \n",
    "                )\n",
    "    else:\n",
    "        enr = gp.enrichr(gene_list = gene_id_list,\n",
    "                 gene_sets=[enrichr_lib],\n",
    "                 organism='human', \n",
    "                 outdir=None, \n",
    "                )\n",
    "    \n",
    "    return enr"
   ]
  },
  {
   "cell_type": "code",
   "execution_count": 5,
   "id": "6fe9ab2c-6434-4350-926d-dbeca37ddd1a",
   "metadata": {},
   "outputs": [],
   "source": [
    "def plot_enrichment_bar(dataset_name, lib_name, enrich_results, cutoff, nterms, save):\n",
    "    # specify color palette for plot\n",
    "    cmap = plt.cm.ocean_r\n",
    "    colors = cmap(np.linspace(0, 0.2, 10))\n",
    "\n",
    "    ax = barplot(enrich_results.res2d, \n",
    "                 title = lib_name, \n",
    "                 figsize=(10, 8),\n",
    "                 color = colors,\n",
    "                 thresh=cutoff,\n",
    "                 n_terms=int(nterms),\n",
    "                 # cmap=\"viridis\"\n",
    "                )\n",
    "\n",
    "    if save == True:\n",
    "        plt.savefig(dataset_name + '_' + lib_name + '_barplot_enrichment_proteome_results.png', dpi = 300, bbox_inches = 'tight')"
   ]
  },
  {
   "cell_type": "code",
   "execution_count": 6,
   "id": "f9cdcb85-b134-47a8-9828-d81ef75e94f4",
   "metadata": {},
   "outputs": [],
   "source": [
    "def plot_enrichment_dot(dataset_name, lib_name, enrich_results, cutoff, nterms, save):\n",
    "    # specify color palette for plot\n",
    "    cmap = plt.cm.ocean_r\n",
    "    colors = cmap(np.linspace(0, 0.2, 10))\n",
    "    \n",
    "    ax = dotplot(enrich_results.res2d, \n",
    "                 title = lib_name, \n",
    "                 figsize=(10, 8),\n",
    "                 color = colors,\n",
    "                 thresh=cutoff,\n",
    "                 n_terms=int(nterms),\n",
    "                 # cmap=\"viridis\"\n",
    "                )\n",
    "\n",
    "    plt.savefig(dataset_name + '_' + lib_name + '_dotplot_enrichment_proteome_results.png', dpi = 300, bbox_inches = 'tight')"
   ]
  },
  {
   "cell_type": "markdown",
   "id": "d23d0c49-8c65-42f9-b135-1e86b0e817f3",
   "metadata": {},
   "source": [
    "# "
   ]
  },
  {
   "cell_type": "markdown",
   "id": "10f65b42",
   "metadata": {},
   "source": [
    "# Read Input File"
   ]
  },
  {
   "cell_type": "markdown",
   "id": "35bf1cb1-b463-498f-bc09-df027f84ccea",
   "metadata": {},
   "source": [
    "### note: jupyter.idre.ucla.edu users need to upload their results folder or specific file you want to analyze by using the up arrow symbol on the top navigation bar"
   ]
  },
  {
   "cell_type": "code",
   "execution_count": 7,
   "id": "aaef45ee",
   "metadata": {},
   "outputs": [
    {
     "data": {
      "text/plain": [
       "'/home/jovyan/backus_lab'"
      ]
     },
     "execution_count": 7,
     "metadata": {},
     "output_type": "execute_result"
    }
   ],
   "source": [
    "# assuming current directory is main folder\n",
    "cd = os.getcwd()\n",
    "cd"
   ]
  },
  {
   "cell_type": "code",
   "execution_count": 8,
   "id": "2bdb13e0",
   "metadata": {},
   "outputs": [],
   "source": [
    "# move to results directory\n",
    "# skip this step if you only uploaded the specific csv and not the entire results folder\n",
    "# os.chdir('results')"
   ]
  },
  {
   "cell_type": "code",
   "execution_count": 9,
   "id": "4ccd2cae",
   "metadata": {},
   "outputs": [],
   "source": [
    "# read csv file, specify enrichment at the protein level or cysteine level\n",
    "# specify the name of the csv file you want to analyze\n",
    "# ex. filename: 'compiled_proteins.csv'\n",
    "df = pd.read_csv('compiled_proteins.csv')"
   ]
  },
  {
   "cell_type": "code",
   "execution_count": 10,
   "id": "0f864b90",
   "metadata": {},
   "outputs": [
    {
     "data": {
      "text/html": [
       "<div>\n",
       "<style scoped>\n",
       "    .dataframe tbody tr th:only-of-type {\n",
       "        vertical-align: middle;\n",
       "    }\n",
       "\n",
       "    .dataframe tbody tr th {\n",
       "        vertical-align: top;\n",
       "    }\n",
       "\n",
       "    .dataframe thead th {\n",
       "        text-align: right;\n",
       "    }\n",
       "</style>\n",
       "<table border=\"1\" class=\"dataframe\">\n",
       "  <thead>\n",
       "    <tr style=\"text-align: right;\">\n",
       "      <th></th>\n",
       "      <th>protein</th>\n",
       "      <th>description</th>\n",
       "      <th>gene</th>\n",
       "      <th>identifiers</th>\n",
       "      <th>peptides</th>\n",
       "      <th>peptide_count</th>\n",
       "      <th>spectral_count</th>\n",
       "      <th>modifications</th>\n",
       "      <th>modification_count</th>\n",
       "      <th>amino_acids</th>\n",
       "      <th>...</th>\n",
       "      <th>Experiment-1_avg_of_medians</th>\n",
       "      <th>Experiment-2_avg_of_medians</th>\n",
       "      <th>Experiment-1_stdev_of_medians</th>\n",
       "      <th>Experiment-2_stdev_of_medians</th>\n",
       "      <th>total_quant_list</th>\n",
       "      <th>Experiment-1_Exp1_Replicate-2_median</th>\n",
       "      <th>Experiment-1_Exp1_Replicate-1_median</th>\n",
       "      <th>Experiment-2_Exp2-Replicate-1_median</th>\n",
       "      <th>Experiment-2_Exp2-Replicate-2_median</th>\n",
       "      <th>Unnamed: 31</th>\n",
       "    </tr>\n",
       "  </thead>\n",
       "  <tbody>\n",
       "    <tr>\n",
       "      <th>0</th>\n",
       "      <td>Q86X55</td>\n",
       "      <td>Histone-arginine methyltransferase CARM1</td>\n",
       "      <td>CARM1</td>\n",
       "      <td>Q86X55_C26</td>\n",
       "      <td>AAAAAAVGPGAGGAGSAVPGGAGPC*ATVSVFPGAR</td>\n",
       "      <td>1</td>\n",
       "      <td>3</td>\n",
       "      <td>25_C[527.3213];25_C[521.3074]</td>\n",
       "      <td>2</td>\n",
       "      <td>C</td>\n",
       "      <td>...</td>\n",
       "      <td>1.291182</td>\n",
       "      <td>1.295200</td>\n",
       "      <td>NaN</td>\n",
       "      <td>NaN</td>\n",
       "      <td>1.2911815216979126;1.295200001608753</td>\n",
       "      <td>1.291182</td>\n",
       "      <td>NaN</td>\n",
       "      <td>1.295200</td>\n",
       "      <td>NaN</td>\n",
       "      <td>NaN</td>\n",
       "    </tr>\n",
       "    <tr>\n",
       "      <th>1</th>\n",
       "      <td>Q99615</td>\n",
       "      <td>DnaJ homolog subfamily C member 7</td>\n",
       "      <td>DNAJC7</td>\n",
       "      <td>Q99615_C7</td>\n",
       "      <td>AAAAEC*DVVMAATEPELLDDQEAKR</td>\n",
       "      <td>1</td>\n",
       "      <td>3</td>\n",
       "      <td>6_C[521.3074];6_C[527.3213]</td>\n",
       "      <td>2</td>\n",
       "      <td>C</td>\n",
       "      <td>...</td>\n",
       "      <td>1.347838</td>\n",
       "      <td>4.039893</td>\n",
       "      <td>NaN</td>\n",
       "      <td>NaN</td>\n",
       "      <td>1.3478380214036192;4.039893401046718</td>\n",
       "      <td>1.347838</td>\n",
       "      <td>NaN</td>\n",
       "      <td>4.039893</td>\n",
       "      <td>NaN</td>\n",
       "      <td>NaN</td>\n",
       "    </tr>\n",
       "    <tr>\n",
       "      <th>2</th>\n",
       "      <td>Q5SRE5</td>\n",
       "      <td>Nucleoporin NUP188 homolog</td>\n",
       "      <td>NUP188</td>\n",
       "      <td>Q5SRE5_C9;Q5SRE5_C1270</td>\n",
       "      <td>AAAAGGPC*VR;HSLALGSATEDKDSMETDDC*SR</td>\n",
       "      <td>2</td>\n",
       "      <td>4</td>\n",
       "      <td>8_C[527.3213];8_C[521.3074];20_C[527.3213];20_...</td>\n",
       "      <td>4</td>\n",
       "      <td>C</td>\n",
       "      <td>...</td>\n",
       "      <td>1.020498</td>\n",
       "      <td>0.846141</td>\n",
       "      <td>NaN</td>\n",
       "      <td>NaN</td>\n",
       "      <td>1.0204981401893118;0.8102536010867071;0.882029...</td>\n",
       "      <td>1.020498</td>\n",
       "      <td>NaN</td>\n",
       "      <td>0.846141</td>\n",
       "      <td>NaN</td>\n",
       "      <td>NaN</td>\n",
       "    </tr>\n",
       "    <tr>\n",
       "      <th>3</th>\n",
       "      <td>Q8IYU8</td>\n",
       "      <td>Calcium uptake protein 2; mitochondrial</td>\n",
       "      <td>MICU2</td>\n",
       "      <td>Q8IYU8_C8</td>\n",
       "      <td>AAAAGSC*AR</td>\n",
       "      <td>1</td>\n",
       "      <td>2</td>\n",
       "      <td>7_C[527.3213];7_C[521.3074]</td>\n",
       "      <td>2</td>\n",
       "      <td>C</td>\n",
       "      <td>...</td>\n",
       "      <td>1.050002</td>\n",
       "      <td>NaN</td>\n",
       "      <td>NaN</td>\n",
       "      <td>NaN</td>\n",
       "      <td>1.0500022223666556</td>\n",
       "      <td>1.050002</td>\n",
       "      <td>NaN</td>\n",
       "      <td>NaN</td>\n",
       "      <td>NaN</td>\n",
       "      <td>NaN</td>\n",
       "    </tr>\n",
       "    <tr>\n",
       "      <th>4</th>\n",
       "      <td>Q9NRL3</td>\n",
       "      <td>Striatin-4</td>\n",
       "      <td>STRN4</td>\n",
       "      <td>Q9NRL3_C17</td>\n",
       "      <td>AAAAVAAAASSC*RPLGSGAGPGPTGAAPVSAPAPGPGPAGK</td>\n",
       "      <td>1</td>\n",
       "      <td>2</td>\n",
       "      <td>12_C[527.3213];12_C[521.3074]</td>\n",
       "      <td>2</td>\n",
       "      <td>C</td>\n",
       "      <td>...</td>\n",
       "      <td>1.432112</td>\n",
       "      <td>NaN</td>\n",
       "      <td>NaN</td>\n",
       "      <td>NaN</td>\n",
       "      <td>1.432112392544983</td>\n",
       "      <td>1.432112</td>\n",
       "      <td>NaN</td>\n",
       "      <td>NaN</td>\n",
       "      <td>NaN</td>\n",
       "      <td>NaN</td>\n",
       "    </tr>\n",
       "  </tbody>\n",
       "</table>\n",
       "<p>5 rows × 32 columns</p>\n",
       "</div>"
      ],
      "text/plain": [
       "  protein                               description    gene  \\\n",
       "0  Q86X55  Histone-arginine methyltransferase CARM1   CARM1   \n",
       "1  Q99615         DnaJ homolog subfamily C member 7  DNAJC7   \n",
       "2  Q5SRE5                Nucleoporin NUP188 homolog  NUP188   \n",
       "3  Q8IYU8   Calcium uptake protein 2; mitochondrial   MICU2   \n",
       "4  Q9NRL3                                Striatin-4   STRN4   \n",
       "\n",
       "              identifiers                                    peptides  \\\n",
       "0              Q86X55_C26        AAAAAAVGPGAGGAGSAVPGGAGPC*ATVSVFPGAR   \n",
       "1               Q99615_C7                  AAAAEC*DVVMAATEPELLDDQEAKR   \n",
       "2  Q5SRE5_C9;Q5SRE5_C1270         AAAAGGPC*VR;HSLALGSATEDKDSMETDDC*SR   \n",
       "3               Q8IYU8_C8                                  AAAAGSC*AR   \n",
       "4              Q9NRL3_C17  AAAAVAAAASSC*RPLGSGAGPGPTGAAPVSAPAPGPGPAGK   \n",
       "\n",
       "   peptide_count  spectral_count  \\\n",
       "0              1               3   \n",
       "1              1               3   \n",
       "2              2               4   \n",
       "3              1               2   \n",
       "4              1               2   \n",
       "\n",
       "                                       modifications  modification_count  \\\n",
       "0                      25_C[527.3213];25_C[521.3074]                   2   \n",
       "1                        6_C[521.3074];6_C[527.3213]                   2   \n",
       "2  8_C[527.3213];8_C[521.3074];20_C[527.3213];20_...                   4   \n",
       "3                        7_C[527.3213];7_C[521.3074]                   2   \n",
       "4                      12_C[527.3213];12_C[521.3074]                   2   \n",
       "\n",
       "  amino_acids  ...  Experiment-1_avg_of_medians Experiment-2_avg_of_medians  \\\n",
       "0           C  ...                     1.291182                    1.295200   \n",
       "1           C  ...                     1.347838                    4.039893   \n",
       "2           C  ...                     1.020498                    0.846141   \n",
       "3           C  ...                     1.050002                         NaN   \n",
       "4           C  ...                     1.432112                         NaN   \n",
       "\n",
       "   Experiment-1_stdev_of_medians  Experiment-2_stdev_of_medians  \\\n",
       "0                            NaN                            NaN   \n",
       "1                            NaN                            NaN   \n",
       "2                            NaN                            NaN   \n",
       "3                            NaN                            NaN   \n",
       "4                            NaN                            NaN   \n",
       "\n",
       "                                    total_quant_list  \\\n",
       "0               1.2911815216979126;1.295200001608753   \n",
       "1               1.3478380214036192;4.039893401046718   \n",
       "2  1.0204981401893118;0.8102536010867071;0.882029...   \n",
       "3                                 1.0500022223666556   \n",
       "4                                  1.432112392544983   \n",
       "\n",
       "   Experiment-1_Exp1_Replicate-2_median  Experiment-1_Exp1_Replicate-1_median  \\\n",
       "0                              1.291182                                   NaN   \n",
       "1                              1.347838                                   NaN   \n",
       "2                              1.020498                                   NaN   \n",
       "3                              1.050002                                   NaN   \n",
       "4                              1.432112                                   NaN   \n",
       "\n",
       "   Experiment-2_Exp2-Replicate-1_median  Experiment-2_Exp2-Replicate-2_median  \\\n",
       "0                              1.295200                                   NaN   \n",
       "1                              4.039893                                   NaN   \n",
       "2                              0.846141                                   NaN   \n",
       "3                                   NaN                                   NaN   \n",
       "4                                   NaN                                   NaN   \n",
       "\n",
       "   Unnamed: 31  \n",
       "0          NaN  \n",
       "1          NaN  \n",
       "2          NaN  \n",
       "3          NaN  \n",
       "4          NaN  \n",
       "\n",
       "[5 rows x 32 columns]"
      ]
     },
     "execution_count": 10,
     "metadata": {},
     "output_type": "execute_result"
    }
   ],
   "source": [
    "# check that the program read the file\n",
    "df.head()"
   ]
  },
  {
   "cell_type": "markdown",
   "id": "f199308b-397f-429c-98c2-9fc9abb6e95e",
   "metadata": {},
   "source": [
    "# "
   ]
  },
  {
   "cell_type": "markdown",
   "id": "e7943988-f461-499f-b57c-a0e7eb4693bd",
   "metadata": {},
   "source": [
    "# Preprocess Specific Dataset for Analysis"
   ]
  },
  {
   "cell_type": "markdown",
   "id": "3ccba255-c8d1-4834-a779-528b22130255",
   "metadata": {},
   "source": [
    "### optional: subset your dataset based on misc criteria"
   ]
  },
  {
   "cell_type": "code",
   "execution_count": 11,
   "id": "f7848a6a-0d65-4e81-ba97-895ee41cd4bd",
   "metadata": {},
   "outputs": [],
   "source": [
    "# # subset dataset based on criteria\n",
    "# df = df[df[['your_column_name'] == 'specific_value']]"
   ]
  },
  {
   "cell_type": "markdown",
   "id": "f6d726ff-4a10-4d6e-bd94-3069cadb6245",
   "metadata": {},
   "source": [
    "# "
   ]
  },
  {
   "cell_type": "markdown",
   "id": "1087b190-97db-43af-bcca-7b8490e7b0b7",
   "metadata": {},
   "source": [
    "### note: specify control group as all genes detected by chemoproteomics\n",
    "### note: do not specify control group if using entire proteome as background"
   ]
  },
  {
   "cell_type": "code",
   "execution_count": 12,
   "id": "18dbe594",
   "metadata": {},
   "outputs": [
    {
     "data": {
      "text/plain": [
       "1709"
      ]
     },
     "execution_count": 12,
     "metadata": {},
     "output_type": "execute_result"
    }
   ],
   "source": [
    "# assumes your input file has a column called 'gene'\n",
    "# replace this string to whatever the column name is in your file that lists the associated gene names\n",
    "gene_col_name = 'gene'\n",
    "df = df[df[gene_col_name].notna()]\n",
    "gene_background_id_list = list(df[gene_col_name].unique())\n",
    "len(gene_background_id_list)"
   ]
  },
  {
   "cell_type": "code",
   "execution_count": 13,
   "id": "743d9aae",
   "metadata": {},
   "outputs": [
    {
     "data": {
      "text/plain": [
       "['CARM1',\n",
       " 'DNAJC7',\n",
       " 'NUP188',\n",
       " 'MICU2',\n",
       " 'STRN4',\n",
       " 'NSRP1',\n",
       " 'CAST',\n",
       " 'LIG3',\n",
       " 'DENR',\n",
       " 'RFC1']"
      ]
     },
     "execution_count": 13,
     "metadata": {},
     "output_type": "execute_result"
    }
   ],
   "source": [
    "# check background list is not empty\n",
    "gene_background_id_list[:10]"
   ]
  },
  {
   "cell_type": "markdown",
   "id": "0d91c087-8186-43a7-95b9-60880c94e3fe",
   "metadata": {},
   "source": [
    "# "
   ]
  },
  {
   "cell_type": "markdown",
   "id": "21babefb-c2eb-4778-8a5c-6a71b2237df0",
   "metadata": {},
   "source": [
    "### specify experimental group"
   ]
  },
  {
   "cell_type": "code",
   "execution_count": 14,
   "id": "2f21c58c",
   "metadata": {},
   "outputs": [
    {
     "data": {
      "text/plain": [
       "1588"
      ]
     },
     "execution_count": 14,
     "metadata": {},
     "output_type": "execute_result"
    }
   ],
   "source": [
    "# specify experimental group as all genes with \n",
    "# log2ratio >= X or log2ratio <= X\n",
    "# ex. column name for selecting cutoff: 'aggregate_avg_of_avg_of_medians'\n",
    "# ex. log2ratio cuttoff: 2\n",
    "quant_col_name = 'aggregate_avg_of_avg_of_medians'\n",
    "cutoff = 0\n",
    "gene_experiment_id_df = df[df[quant_col_name] >= cutoff]\n",
    "gene_experiment_id_list = list(gene_experiment_id_df[gene_col_name].unique())\n",
    "gene_experiment_id_list = [x for x in gene_experiment_id_list if x != None]\n",
    "len(gene_experiment_id_list)"
   ]
  },
  {
   "cell_type": "code",
   "execution_count": 15,
   "id": "dc9b296c",
   "metadata": {},
   "outputs": [
    {
     "data": {
      "text/plain": [
       "['CARM1',\n",
       " 'DNAJC7',\n",
       " 'NUP188',\n",
       " 'MICU2',\n",
       " 'STRN4',\n",
       " 'NSRP1',\n",
       " 'CAST',\n",
       " 'LIG3',\n",
       " 'DENR',\n",
       " 'RFC1']"
      ]
     },
     "execution_count": 15,
     "metadata": {},
     "output_type": "execute_result"
    }
   ],
   "source": [
    "# check experiment list is not empty\n",
    "gene_experiment_id_list[:10]"
   ]
  },
  {
   "cell_type": "markdown",
   "id": "7e8c9041-d2a7-4149-bcfe-d026f276e76d",
   "metadata": {},
   "source": [
    "# "
   ]
  },
  {
   "cell_type": "markdown",
   "id": "41cc4843",
   "metadata": {},
   "source": [
    "# Set Enrichment Library"
   ]
  },
  {
   "cell_type": "code",
   "execution_count": 16,
   "id": "7ba6193c",
   "metadata": {},
   "outputs": [
    {
     "data": {
      "text/plain": [
       "['ARCHS4_Cell-lines',\n",
       " 'ARCHS4_IDG_Coexp',\n",
       " 'ARCHS4_Kinases_Coexp',\n",
       " 'ARCHS4_TFs_Coexp',\n",
       " 'ARCHS4_Tissues',\n",
       " 'Achilles_fitness_decrease',\n",
       " 'Achilles_fitness_increase',\n",
       " 'Aging_Perturbations_from_GEO_down',\n",
       " 'Aging_Perturbations_from_GEO_up',\n",
       " 'Allen_Brain_Atlas_10x_scRNA_2021',\n",
       " 'Allen_Brain_Atlas_down',\n",
       " 'Allen_Brain_Atlas_up',\n",
       " 'Azimuth_2023',\n",
       " 'Azimuth_Cell_Types_2021',\n",
       " 'BioCarta_2013',\n",
       " 'BioCarta_2015',\n",
       " 'BioCarta_2016',\n",
       " 'BioPlanet_2019',\n",
       " 'BioPlex_2017',\n",
       " 'CCLE_Proteomics_2020',\n",
       " 'CORUM',\n",
       " 'COVID-19_Related_Gene_Sets',\n",
       " 'COVID-19_Related_Gene_Sets_2021',\n",
       " 'Cancer_Cell_Line_Encyclopedia',\n",
       " 'CellMarker_Augmented_2021',\n",
       " 'ChEA_2013',\n",
       " 'ChEA_2015',\n",
       " 'ChEA_2016',\n",
       " 'ChEA_2022',\n",
       " 'Chromosome_Location',\n",
       " 'Chromosome_Location_hg19',\n",
       " 'ClinVar_2019',\n",
       " 'DSigDB',\n",
       " 'Data_Acquisition_Method_Most_Popular_Genes',\n",
       " 'DepMap_WG_CRISPR_Screens_Broad_CellLines_2019',\n",
       " 'DepMap_WG_CRISPR_Screens_Sanger_CellLines_2019',\n",
       " 'Descartes_Cell_Types_and_Tissue_2021',\n",
       " 'Diabetes_Perturbations_GEO_2022',\n",
       " 'DisGeNET',\n",
       " 'Disease_Perturbations_from_GEO_down',\n",
       " 'Disease_Perturbations_from_GEO_up',\n",
       " 'Disease_Signatures_from_GEO_down_2014',\n",
       " 'Disease_Signatures_from_GEO_up_2014',\n",
       " 'DrugMatrix',\n",
       " 'Drug_Perturbations_from_GEO_2014',\n",
       " 'Drug_Perturbations_from_GEO_down',\n",
       " 'Drug_Perturbations_from_GEO_up',\n",
       " 'ENCODE_Histone_Modifications_2013',\n",
       " 'ENCODE_Histone_Modifications_2015',\n",
       " 'ENCODE_TF_ChIP-seq_2014',\n",
       " 'ENCODE_TF_ChIP-seq_2015',\n",
       " 'ENCODE_and_ChEA_Consensus_TFs_from_ChIP-X',\n",
       " 'ESCAPE',\n",
       " 'Elsevier_Pathway_Collection',\n",
       " 'Enrichr_Libraries_Most_Popular_Genes',\n",
       " 'Enrichr_Submissions_TF-Gene_Coocurrence',\n",
       " 'Enrichr_Users_Contributed_Lists_2020',\n",
       " 'Epigenomics_Roadmap_HM_ChIP-seq',\n",
       " 'FANTOM6_lncRNA_KD_DEGs',\n",
       " 'GO_Biological_Process_2013',\n",
       " 'GO_Biological_Process_2015',\n",
       " 'GO_Biological_Process_2017',\n",
       " 'GO_Biological_Process_2017b',\n",
       " 'GO_Biological_Process_2018',\n",
       " 'GO_Biological_Process_2021',\n",
       " 'GO_Biological_Process_2023',\n",
       " 'GO_Cellular_Component_2013',\n",
       " 'GO_Cellular_Component_2015',\n",
       " 'GO_Cellular_Component_2017',\n",
       " 'GO_Cellular_Component_2017b',\n",
       " 'GO_Cellular_Component_2018',\n",
       " 'GO_Cellular_Component_2021',\n",
       " 'GO_Cellular_Component_2023',\n",
       " 'GO_Molecular_Function_2013',\n",
       " 'GO_Molecular_Function_2015',\n",
       " 'GO_Molecular_Function_2017',\n",
       " 'GO_Molecular_Function_2017b',\n",
       " 'GO_Molecular_Function_2018',\n",
       " 'GO_Molecular_Function_2021',\n",
       " 'GO_Molecular_Function_2023',\n",
       " 'GTEx_Aging_Signatures_2021',\n",
       " 'GTEx_Tissue_Expression_Down',\n",
       " 'GTEx_Tissue_Expression_Up',\n",
       " 'GTEx_Tissues_V8_2023',\n",
       " 'GWAS_Catalog_2019',\n",
       " 'GWAS_Catalog_2023',\n",
       " 'GeDiPNet_2023',\n",
       " 'GeneSigDB',\n",
       " 'Gene_Perturbations_from_GEO_down',\n",
       " 'Gene_Perturbations_from_GEO_up',\n",
       " 'Genes_Associated_with_NIH_Grants',\n",
       " 'Genome_Browser_PWMs',\n",
       " 'GlyGen_Glycosylated_Proteins_2022',\n",
       " 'HDSigDB_Human_2021',\n",
       " 'HDSigDB_Mouse_2021',\n",
       " 'HMDB_Metabolites',\n",
       " 'HMS_LINCS_KinomeScan',\n",
       " 'HomoloGene',\n",
       " 'HuBMAP_ASCT_plus_B_augmented_w_RNAseq_Coexpression',\n",
       " 'HuBMAP_ASCTplusB_augmented_2022',\n",
       " 'HumanCyc_2015',\n",
       " 'HumanCyc_2016',\n",
       " 'Human_Gene_Atlas',\n",
       " 'Human_Phenotype_Ontology',\n",
       " 'IDG_Drug_Targets_2022',\n",
       " 'InterPro_Domains_2019',\n",
       " 'Jensen_COMPARTMENTS',\n",
       " 'Jensen_DISEASES',\n",
       " 'Jensen_TISSUES',\n",
       " 'KEA_2013',\n",
       " 'KEA_2015',\n",
       " 'KEGG_2013',\n",
       " 'KEGG_2015',\n",
       " 'KEGG_2016',\n",
       " 'KEGG_2019_Human',\n",
       " 'KEGG_2019_Mouse',\n",
       " 'KEGG_2021_Human',\n",
       " 'KOMP2_Mouse_Phenotypes_2022',\n",
       " 'Kinase_Perturbations_from_GEO_down',\n",
       " 'Kinase_Perturbations_from_GEO_up',\n",
       " 'L1000_Kinase_and_GPCR_Perturbations_down',\n",
       " 'L1000_Kinase_and_GPCR_Perturbations_up',\n",
       " 'LINCS_L1000_CRISPR_KO_Consensus_Sigs',\n",
       " 'LINCS_L1000_Chem_Pert_Consensus_Sigs',\n",
       " 'LINCS_L1000_Chem_Pert_down',\n",
       " 'LINCS_L1000_Chem_Pert_up',\n",
       " 'LINCS_L1000_Ligand_Perturbations_down',\n",
       " 'LINCS_L1000_Ligand_Perturbations_up',\n",
       " 'Ligand_Perturbations_from_GEO_down',\n",
       " 'Ligand_Perturbations_from_GEO_up',\n",
       " 'MAGMA_Drugs_and_Diseases',\n",
       " 'MAGNET_2023',\n",
       " 'MCF7_Perturbations_from_GEO_down',\n",
       " 'MCF7_Perturbations_from_GEO_up',\n",
       " 'MGI_Mammalian_Phenotype_2013',\n",
       " 'MGI_Mammalian_Phenotype_2017',\n",
       " 'MGI_Mammalian_Phenotype_Level_3',\n",
       " 'MGI_Mammalian_Phenotype_Level_4',\n",
       " 'MGI_Mammalian_Phenotype_Level_4_2019',\n",
       " 'MGI_Mammalian_Phenotype_Level_4_2021',\n",
       " 'MSigDB_Computational',\n",
       " 'MSigDB_Hallmark_2020',\n",
       " 'MSigDB_Oncogenic_Signatures',\n",
       " 'Metabolomics_Workbench_Metabolites_2022',\n",
       " 'Microbe_Perturbations_from_GEO_down',\n",
       " 'Microbe_Perturbations_from_GEO_up',\n",
       " 'MoTrPAC_2023',\n",
       " 'Mouse_Gene_Atlas',\n",
       " 'NCI-60_Cancer_Cell_Lines',\n",
       " 'NCI-Nature_2015',\n",
       " 'NCI-Nature_2016',\n",
       " 'NIH_Funded_PIs_2017_AutoRIF_ARCHS4_Predictions',\n",
       " 'NIH_Funded_PIs_2017_GeneRIF_ARCHS4_Predictions',\n",
       " 'NIH_Funded_PIs_2017_Human_AutoRIF',\n",
       " 'NIH_Funded_PIs_2017_Human_GeneRIF',\n",
       " 'NURSA_Human_Endogenous_Complexome',\n",
       " 'OMIM_Disease',\n",
       " 'OMIM_Expanded',\n",
       " 'Old_CMAP_down',\n",
       " 'Old_CMAP_up',\n",
       " 'Orphanet_Augmented_2021',\n",
       " 'PFOCR_Pathways',\n",
       " 'PFOCR_Pathways_2023',\n",
       " 'PPI_Hub_Proteins',\n",
       " 'PanglaoDB_Augmented_2021',\n",
       " 'Panther_2015',\n",
       " 'Panther_2016',\n",
       " 'Pfam_Domains_2019',\n",
       " 'Pfam_InterPro_Domains',\n",
       " 'PheWeb_2019',\n",
       " 'PhenGenI_Association_2021',\n",
       " 'Phosphatase_Substrates_from_DEPOD',\n",
       " 'ProteomicsDB_2020',\n",
       " 'Proteomics_Drug_Atlas_2023',\n",
       " 'RNA-Seq_Disease_Gene_and_Drug_Signatures_from_GEO',\n",
       " 'RNAseq_Automatic_GEO_Signatures_Human_Down',\n",
       " 'RNAseq_Automatic_GEO_Signatures_Human_Up',\n",
       " 'RNAseq_Automatic_GEO_Signatures_Mouse_Down',\n",
       " 'RNAseq_Automatic_GEO_Signatures_Mouse_Up',\n",
       " 'Rare_Diseases_AutoRIF_ARCHS4_Predictions',\n",
       " 'Rare_Diseases_AutoRIF_Gene_Lists',\n",
       " 'Rare_Diseases_GeneRIF_ARCHS4_Predictions',\n",
       " 'Rare_Diseases_GeneRIF_Gene_Lists',\n",
       " 'Reactome_2013',\n",
       " 'Reactome_2015',\n",
       " 'Reactome_2016',\n",
       " 'Reactome_2022',\n",
       " 'Rummagene_kinases',\n",
       " 'Rummagene_signatures',\n",
       " 'Rummagene_transcription_factors',\n",
       " 'SILAC_Phosphoproteomics',\n",
       " 'SubCell_BarCode',\n",
       " 'SynGO_2022',\n",
       " 'SysMyo_Muscle_Gene_Sets',\n",
       " 'TF-LOF_Expression_from_GEO',\n",
       " 'TF_Perturbations_Followed_by_Expression',\n",
       " 'TG_GATES_2020',\n",
       " 'TRANSFAC_and_JASPAR_PWMs',\n",
       " 'TRRUST_Transcription_Factors_2019',\n",
       " 'Table_Mining_of_CRISPR_Studies',\n",
       " 'Tabula_Muris',\n",
       " 'Tabula_Sapiens',\n",
       " 'TargetScan_microRNA',\n",
       " 'TargetScan_microRNA_2017',\n",
       " 'The_Kinase_Library_2023',\n",
       " 'Tissue_Protein_Expression_from_Human_Proteome_Map',\n",
       " 'Tissue_Protein_Expression_from_ProteomicsDB',\n",
       " 'Transcription_Factor_PPIs',\n",
       " 'UK_Biobank_GWAS_v1',\n",
       " 'Virus-Host_PPI_P-HIPSTer_2020',\n",
       " 'VirusMINT',\n",
       " 'Virus_Perturbations_from_GEO_down',\n",
       " 'Virus_Perturbations_from_GEO_up',\n",
       " 'WikiPathway_2021_Human',\n",
       " 'WikiPathway_2023_Human',\n",
       " 'WikiPathways_2013',\n",
       " 'WikiPathways_2015',\n",
       " 'WikiPathways_2016',\n",
       " 'WikiPathways_2019_Human',\n",
       " 'WikiPathways_2019_Mouse',\n",
       " 'dbGaP',\n",
       " 'huMAP',\n",
       " 'lncHUB_lncRNA_Co-Expression',\n",
       " 'miRTarBase_2017']"
      ]
     },
     "execution_count": 16,
     "metadata": {},
     "output_type": "execute_result"
    }
   ],
   "source": [
    "# display all librarys available for enrichment\n",
    "library_names = gp.get_library_name()\n",
    "library_names"
   ]
  },
  {
   "cell_type": "code",
   "execution_count": 17,
   "id": "41e8981e-2ba0-4473-bc18-2dbb2b53b42e",
   "metadata": {},
   "outputs": [],
   "source": [
    "# specify library\n",
    "lib_name = 'KEGG_2021_Human'"
   ]
  },
  {
   "cell_type": "markdown",
   "id": "6ffb1d15-0f17-4413-94f0-7c5942d76114",
   "metadata": {},
   "source": [
    "# "
   ]
  },
  {
   "cell_type": "markdown",
   "id": "118db570",
   "metadata": {},
   "source": [
    "# Option 1: Set Human Proteome as Background Gene Set"
   ]
  },
  {
   "cell_type": "code",
   "execution_count": 18,
   "id": "9dc43bc7-7a69-4f11-8ce1-572c46421494",
   "metadata": {},
   "outputs": [],
   "source": [
    "# specify dataset name for output files\n",
    "dataset_name = '230922_test_proteome'"
   ]
  },
  {
   "cell_type": "code",
   "execution_count": 19,
   "id": "77584ca1-7de5-4e02-b5d1-f9239e9a0d70",
   "metadata": {},
   "outputs": [],
   "source": [
    "# specify if you want the results to be saved\n",
    "save = False"
   ]
  },
  {
   "cell_type": "code",
   "execution_count": 20,
   "id": "a8e6145d",
   "metadata": {},
   "outputs": [],
   "source": [
    "# specify if using a custom background gene list\n",
    "background_custom = False"
   ]
  },
  {
   "cell_type": "code",
   "execution_count": 21,
   "id": "f4482f77",
   "metadata": {},
   "outputs": [],
   "source": [
    "# run enrichment test\n",
    "proteome_enrich_results = get_enrichment(gene_experiment_id_list, \n",
    "                                lib_name, \n",
    "                                background_custom, \n",
    "                                gene_background_id_list)"
   ]
  },
  {
   "cell_type": "code",
   "execution_count": 22,
   "id": "7fd26204",
   "metadata": {},
   "outputs": [],
   "source": [
    "# export results to csv\n",
    "if save == True:\n",
    "    proteome_enrich_results.results.to_csv(dataset_name  + '_' + lib_name + '_enrichment_proteome_results.csv', index = False)"
   ]
  },
  {
   "cell_type": "code",
   "execution_count": 23,
   "id": "800273d2-ea5f-4d28-b7dc-d00bc1723776",
   "metadata": {},
   "outputs": [
    {
     "data": {
      "text/html": [
       "<div>\n",
       "<style scoped>\n",
       "    .dataframe tbody tr th:only-of-type {\n",
       "        vertical-align: middle;\n",
       "    }\n",
       "\n",
       "    .dataframe tbody tr th {\n",
       "        vertical-align: top;\n",
       "    }\n",
       "\n",
       "    .dataframe thead th {\n",
       "        text-align: right;\n",
       "    }\n",
       "</style>\n",
       "<table border=\"1\" class=\"dataframe\">\n",
       "  <thead>\n",
       "    <tr style=\"text-align: right;\">\n",
       "      <th></th>\n",
       "      <th>Gene_set</th>\n",
       "      <th>Term</th>\n",
       "      <th>Overlap</th>\n",
       "      <th>P-value</th>\n",
       "      <th>Adjusted P-value</th>\n",
       "      <th>Old P-value</th>\n",
       "      <th>Old Adjusted P-value</th>\n",
       "      <th>Odds Ratio</th>\n",
       "      <th>Combined Score</th>\n",
       "      <th>Genes</th>\n",
       "    </tr>\n",
       "  </thead>\n",
       "  <tbody>\n",
       "    <tr>\n",
       "      <th>0</th>\n",
       "      <td>KEGG_2021_Human</td>\n",
       "      <td>Ribosome</td>\n",
       "      <td>58/158</td>\n",
       "      <td>1.924235e-24</td>\n",
       "      <td>5.714979e-22</td>\n",
       "      <td>0</td>\n",
       "      <td>0</td>\n",
       "      <td>6.941804</td>\n",
       "      <td>3.790747e+02</td>\n",
       "      <td>RPL4;RPL30;RPL3;MRPS16;RPL32;RPL34;MRPS11;RPLP...</td>\n",
       "    </tr>\n",
       "    <tr>\n",
       "      <th>1</th>\n",
       "      <td>KEGG_2021_Human</td>\n",
       "      <td>RNA transport</td>\n",
       "      <td>57/186</td>\n",
       "      <td>1.152010e-19</td>\n",
       "      <td>1.710734e-17</td>\n",
       "      <td>0</td>\n",
       "      <td>0</td>\n",
       "      <td>5.276639</td>\n",
       "      <td>2.301016e+02</td>\n",
       "      <td>EIF4A2;CYFIP1;EIF4A1;NUP188;POP1;GEMIN2;RPP30;...</td>\n",
       "    </tr>\n",
       "    <tr>\n",
       "      <th>2</th>\n",
       "      <td>KEGG_2021_Human</td>\n",
       "      <td>Salmonella infection</td>\n",
       "      <td>66/249</td>\n",
       "      <td>7.966934e-19</td>\n",
       "      <td>7.887265e-17</td>\n",
       "      <td>0</td>\n",
       "      <td>0</td>\n",
       "      <td>4.319575</td>\n",
       "      <td>1.800132e+02</td>\n",
       "      <td>CYFIP1;HSP90AB1;ARPC1B;CSE1L;FHOD1;PIK3C2A;ACT...</td>\n",
       "    </tr>\n",
       "    <tr>\n",
       "      <th>3</th>\n",
       "      <td>KEGG_2021_Human</td>\n",
       "      <td>Spliceosome</td>\n",
       "      <td>49/150</td>\n",
       "      <td>2.186465e-18</td>\n",
       "      <td>1.623450e-16</td>\n",
       "      <td>0</td>\n",
       "      <td>0</td>\n",
       "      <td>5.772290</td>\n",
       "      <td>2.347258e+02</td>\n",
       "      <td>TCERG1;RBM25;DDX46;DDX42;HNRNPU;PRPF19;PQBP1;E...</td>\n",
       "    </tr>\n",
       "    <tr>\n",
       "      <th>4</th>\n",
       "      <td>KEGG_2021_Human</td>\n",
       "      <td>Coronavirus disease</td>\n",
       "      <td>60/232</td>\n",
       "      <td>1.097969e-16</td>\n",
       "      <td>6.521935e-15</td>\n",
       "      <td>0</td>\n",
       "      <td>0</td>\n",
       "      <td>4.164130</td>\n",
       "      <td>1.530230e+02</td>\n",
       "      <td>RPL4;RPL30;RPL3;RPL32;RPL34;RPLP1;RPLP0;ADAR;R...</td>\n",
       "    </tr>\n",
       "    <tr>\n",
       "      <th>...</th>\n",
       "      <td>...</td>\n",
       "      <td>...</td>\n",
       "      <td>...</td>\n",
       "      <td>...</td>\n",
       "      <td>...</td>\n",
       "      <td>...</td>\n",
       "      <td>...</td>\n",
       "      <td>...</td>\n",
       "      <td>...</td>\n",
       "      <td>...</td>\n",
       "    </tr>\n",
       "    <tr>\n",
       "      <th>292</th>\n",
       "      <td>KEGG_2021_Human</td>\n",
       "      <td>Cell adhesion molecules</td>\n",
       "      <td>3/148</td>\n",
       "      <td>9.995555e-01</td>\n",
       "      <td>9.999951e-01</td>\n",
       "      <td>0</td>\n",
       "      <td>0</td>\n",
       "      <td>0.238447</td>\n",
       "      <td>1.060064e-04</td>\n",
       "      <td>PTPRC;ITGB2;ICAM1</td>\n",
       "    </tr>\n",
       "    <tr>\n",
       "      <th>293</th>\n",
       "      <td>KEGG_2021_Human</td>\n",
       "      <td>Hematopoietic cell lineage</td>\n",
       "      <td>1/99</td>\n",
       "      <td>9.997255e-01</td>\n",
       "      <td>9.999951e-01</td>\n",
       "      <td>0</td>\n",
       "      <td>0</td>\n",
       "      <td>0.117755</td>\n",
       "      <td>3.233413e-05</td>\n",
       "      <td>DNTT</td>\n",
       "    </tr>\n",
       "    <tr>\n",
       "      <th>294</th>\n",
       "      <td>KEGG_2021_Human</td>\n",
       "      <td>Herpes simplex virus 1 infection</td>\n",
       "      <td>21/498</td>\n",
       "      <td>9.997297e-01</td>\n",
       "      <td>9.999951e-01</td>\n",
       "      <td>0</td>\n",
       "      <td>0</td>\n",
       "      <td>0.503887</td>\n",
       "      <td>1.362316e-04</td>\n",
       "      <td>PDIA3;DAXX;SP100;STAT1;TAP2;TRAF2;PTPN11;TSC1;...</td>\n",
       "    </tr>\n",
       "    <tr>\n",
       "      <th>295</th>\n",
       "      <td>KEGG_2021_Human</td>\n",
       "      <td>Protein digestion and absorption</td>\n",
       "      <td>1/103</td>\n",
       "      <td>9.998023e-01</td>\n",
       "      <td>9.999951e-01</td>\n",
       "      <td>0</td>\n",
       "      <td>0</td>\n",
       "      <td>0.113113</td>\n",
       "      <td>2.236941e-05</td>\n",
       "      <td>ATP1A1</td>\n",
       "    </tr>\n",
       "    <tr>\n",
       "      <th>296</th>\n",
       "      <td>KEGG_2021_Human</td>\n",
       "      <td>Olfactory transduction</td>\n",
       "      <td>4/440</td>\n",
       "      <td>9.999951e-01</td>\n",
       "      <td>9.999951e-01</td>\n",
       "      <td>0</td>\n",
       "      <td>0</td>\n",
       "      <td>0.104115</td>\n",
       "      <td>5.146591e-07</td>\n",
       "      <td>GRK3;GRK2;GNB1;CAMK2G</td>\n",
       "    </tr>\n",
       "  </tbody>\n",
       "</table>\n",
       "<p>297 rows × 10 columns</p>\n",
       "</div>"
      ],
      "text/plain": [
       "            Gene_set                              Term Overlap       P-value  \\\n",
       "0    KEGG_2021_Human                          Ribosome  58/158  1.924235e-24   \n",
       "1    KEGG_2021_Human                     RNA transport  57/186  1.152010e-19   \n",
       "2    KEGG_2021_Human              Salmonella infection  66/249  7.966934e-19   \n",
       "3    KEGG_2021_Human                       Spliceosome  49/150  2.186465e-18   \n",
       "4    KEGG_2021_Human               Coronavirus disease  60/232  1.097969e-16   \n",
       "..               ...                               ...     ...           ...   \n",
       "292  KEGG_2021_Human           Cell adhesion molecules   3/148  9.995555e-01   \n",
       "293  KEGG_2021_Human        Hematopoietic cell lineage    1/99  9.997255e-01   \n",
       "294  KEGG_2021_Human  Herpes simplex virus 1 infection  21/498  9.997297e-01   \n",
       "295  KEGG_2021_Human  Protein digestion and absorption   1/103  9.998023e-01   \n",
       "296  KEGG_2021_Human            Olfactory transduction   4/440  9.999951e-01   \n",
       "\n",
       "     Adjusted P-value  Old P-value  Old Adjusted P-value  Odds Ratio  \\\n",
       "0        5.714979e-22            0                     0    6.941804   \n",
       "1        1.710734e-17            0                     0    5.276639   \n",
       "2        7.887265e-17            0                     0    4.319575   \n",
       "3        1.623450e-16            0                     0    5.772290   \n",
       "4        6.521935e-15            0                     0    4.164130   \n",
       "..                ...          ...                   ...         ...   \n",
       "292      9.999951e-01            0                     0    0.238447   \n",
       "293      9.999951e-01            0                     0    0.117755   \n",
       "294      9.999951e-01            0                     0    0.503887   \n",
       "295      9.999951e-01            0                     0    0.113113   \n",
       "296      9.999951e-01            0                     0    0.104115   \n",
       "\n",
       "     Combined Score                                              Genes  \n",
       "0      3.790747e+02  RPL4;RPL30;RPL3;MRPS16;RPL32;RPL34;MRPS11;RPLP...  \n",
       "1      2.301016e+02  EIF4A2;CYFIP1;EIF4A1;NUP188;POP1;GEMIN2;RPP30;...  \n",
       "2      1.800132e+02  CYFIP1;HSP90AB1;ARPC1B;CSE1L;FHOD1;PIK3C2A;ACT...  \n",
       "3      2.347258e+02  TCERG1;RBM25;DDX46;DDX42;HNRNPU;PRPF19;PQBP1;E...  \n",
       "4      1.530230e+02  RPL4;RPL30;RPL3;RPL32;RPL34;RPLP1;RPLP0;ADAR;R...  \n",
       "..              ...                                                ...  \n",
       "292    1.060064e-04                                  PTPRC;ITGB2;ICAM1  \n",
       "293    3.233413e-05                                               DNTT  \n",
       "294    1.362316e-04  PDIA3;DAXX;SP100;STAT1;TAP2;TRAF2;PTPN11;TSC1;...  \n",
       "295    2.236941e-05                                             ATP1A1  \n",
       "296    5.146591e-07                              GRK3;GRK2;GNB1;CAMK2G  \n",
       "\n",
       "[297 rows x 10 columns]"
      ]
     },
     "execution_count": 23,
     "metadata": {},
     "output_type": "execute_result"
    }
   ],
   "source": [
    "# check results are not empty\n",
    "proteome_enrich_results.results"
   ]
  },
  {
   "cell_type": "markdown",
   "id": "ce53f950-f181-4e51-9cdd-1676ca44c3c7",
   "metadata": {},
   "source": [
    "# "
   ]
  },
  {
   "cell_type": "markdown",
   "id": "3de83fac-543b-4d8a-af7a-170df54ad3dd",
   "metadata": {},
   "source": [
    "## Plot Enrichment Results from Background Proteome Set"
   ]
  },
  {
   "cell_type": "code",
   "execution_count": 24,
   "id": "c64fded0-180c-445b-8661-a17d5f364321",
   "metadata": {},
   "outputs": [
    {
     "name": "stdout",
     "output_type": "stream",
     "text": [
      "There are enriched terms based on the cutoff of 0.05\n"
     ]
    }
   ],
   "source": [
    "# check if results have significantly enriched terms based on adjusted p-val cutoff of 0.05\n",
    "num_proteome_enrich_results = proteome_enrich_results.res2d[proteome_enrich_results.res2d['Adjusted P-value'] <= 0.05].shape[0]\n",
    "if (num_proteome_enrich_results)  == 0:\n",
    "    print('There are NO enriched terms based on the cutoff of 0.05')\n",
    "else:\n",
    "    print('There are enriched terms based on the cutoff of 0.05')"
   ]
  },
  {
   "cell_type": "code",
   "execution_count": 25,
   "id": "15f0d136-4a1b-48da-b660-1a71d6241966",
   "metadata": {},
   "outputs": [],
   "source": [
    "# specify customized plot options\n",
    "cutoff = 0.05\n",
    "top_nterms = 10"
   ]
  },
  {
   "cell_type": "code",
   "execution_count": 26,
   "id": "7c7c4050",
   "metadata": {},
   "outputs": [
    {
     "name": "stderr",
     "output_type": "stream",
     "text": [
      "/opt/conda/lib/python3.11/site-packages/gseapy/plot.py:689: FutureWarning: The 'method' keyword in Series.replace is deprecated and will be removed in a future version.\n",
      "  df[self.colname].replace(\n"
     ]
    },
    {
     "data": {
      "image/png": "[encoded data removed]",
      "text/plain": [
       "<Figure size 1000x800 with 1 Axes>"
      ]
     },
     "metadata": {},
     "output_type": "display_data"
    }
   ],
   "source": [
    "# plot and save figure\n",
    "plot_enrichment_bar(dataset_name, lib_name, proteome_enrich_results, cutoff, top_nterms, save)"
   ]
  },
  {
   "cell_type": "code",
   "execution_count": 27,
   "id": "f11c6bc0-94ac-4a2d-b10c-4cc6cc74dd0b",
   "metadata": {},
   "outputs": [
    {
     "name": "stderr",
     "output_type": "stream",
     "text": [
      "/opt/conda/lib/python3.11/site-packages/gseapy/plot.py:689: FutureWarning: The 'method' keyword in Series.replace is deprecated and will be removed in a future version.\n",
      "  df[self.colname].replace(\n"
     ]
    },
    {
     "data": {
      "image/png": "[encoded data removed]",
      "text/plain": [
       "<Figure size 1000x800 with 2 Axes>"
      ]
     },
     "metadata": {},
     "output_type": "display_data"
    }
   ],
   "source": [
    "# plot and save figure\n",
    "plot_enrichment_dot(dataset_name, lib_name, proteome_enrich_results, cutoff, top_nterms, save)"
   ]
  },
  {
   "cell_type": "markdown",
   "id": "60ee66e4-6947-4e9c-bf01-87908760e6ca",
   "metadata": {},
   "source": [
    "# "
   ]
  },
  {
   "cell_type": "markdown",
   "id": "9f562413-86c2-4663-a88f-fa742ce1d3d5",
   "metadata": {},
   "source": [
    "# Option 2: Set Custom Background Gene Set"
   ]
  },
  {
   "cell_type": "code",
   "execution_count": 28,
   "id": "3216fa72-2f93-4b68-96b8-9e99ee72c469",
   "metadata": {},
   "outputs": [],
   "source": [
    "# specify dataset name for output files\n",
    "dataset_name = '230922_test_custom'"
   ]
  },
  {
   "cell_type": "code",
   "execution_count": 29,
   "id": "c371681b-283c-4381-97c6-dd7596d89949",
   "metadata": {},
   "outputs": [],
   "source": [
    "# specify if you want the results to be saved\n",
    "save = False"
   ]
  },
  {
   "cell_type": "code",
   "execution_count": 30,
   "id": "8b1f1fe4",
   "metadata": {},
   "outputs": [],
   "source": [
    "# specify if using a custom background gene list\n",
    "background_custom = True"
   ]
  },
  {
   "cell_type": "code",
   "execution_count": 31,
   "id": "e4024d08",
   "metadata": {},
   "outputs": [],
   "source": [
    "# run enrichment test\n",
    "custom_enrich_results = get_enrichment(gene_experiment_id_list, \n",
    "                                lib_name, \n",
    "                                background_custom, \n",
    "                                gene_background_id_list)"
   ]
  },
  {
   "cell_type": "code",
   "execution_count": 32,
   "id": "2292bd47",
   "metadata": {},
   "outputs": [],
   "source": [
    "# export results to csv\n",
    "if save == True:\n",
    "    custom_enrich_results.results.to_csv(dataset_name  + '_' + lib_name + '_enrichment_custom_results.csv', index = False)"
   ]
  },
  {
   "cell_type": "code",
   "execution_count": 33,
   "id": "57bfcdc8-cd3f-4a54-a3c0-37ca4acc097c",
   "metadata": {},
   "outputs": [
    {
     "data": {
      "text/html": [
       "<div>\n",
       "<style scoped>\n",
       "    .dataframe tbody tr th:only-of-type {\n",
       "        vertical-align: middle;\n",
       "    }\n",
       "\n",
       "    .dataframe tbody tr th {\n",
       "        vertical-align: top;\n",
       "    }\n",
       "\n",
       "    .dataframe thead th {\n",
       "        text-align: right;\n",
       "    }\n",
       "</style>\n",
       "<table border=\"1\" class=\"dataframe\">\n",
       "  <thead>\n",
       "    <tr style=\"text-align: right;\">\n",
       "      <th></th>\n",
       "      <th>Gene_set</th>\n",
       "      <th>Term</th>\n",
       "      <th>P-value</th>\n",
       "      <th>Adjusted P-value</th>\n",
       "      <th>Old P-value</th>\n",
       "      <th>Old adjusted P-value</th>\n",
       "      <th>Odds Ratio</th>\n",
       "      <th>Combined Score</th>\n",
       "      <th>Genes</th>\n",
       "    </tr>\n",
       "  </thead>\n",
       "  <tbody>\n",
       "    <tr>\n",
       "      <th>0</th>\n",
       "      <td>KEGG_2021_Human</td>\n",
       "      <td>Ribosome</td>\n",
       "      <td>0.068823</td>\n",
       "      <td>0.999689</td>\n",
       "      <td>0</td>\n",
       "      <td>0</td>\n",
       "      <td>4.549020</td>\n",
       "      <td>12.174136</td>\n",
       "      <td>RPL4;RPL30;RPL3;MRPS16;RPL32;RPL34;MRPS11;RPLP...</td>\n",
       "    </tr>\n",
       "    <tr>\n",
       "      <th>1</th>\n",
       "      <td>KEGG_2021_Human</td>\n",
       "      <td>Proteasome</td>\n",
       "      <td>0.169514</td>\n",
       "      <td>0.999689</td>\n",
       "      <td>0</td>\n",
       "      <td>0</td>\n",
       "      <td>inf</td>\n",
       "      <td>inf</td>\n",
       "      <td>PSMD12;PSMD14;PSMD13;PSMA7;PSMB10;PSMB8;PSMB7;...</td>\n",
       "    </tr>\n",
       "    <tr>\n",
       "      <th>2</th>\n",
       "      <td>KEGG_2021_Human</td>\n",
       "      <td>Insulin signaling pathway</td>\n",
       "      <td>0.196731</td>\n",
       "      <td>0.999689</td>\n",
       "      <td>0</td>\n",
       "      <td>0</td>\n",
       "      <td>inf</td>\n",
       "      <td>inf</td>\n",
       "      <td>GSK3B;PYGB;MAP2K1;PRKCI;MAP2K2;PRKAA2;RPS6;ARA...</td>\n",
       "    </tr>\n",
       "    <tr>\n",
       "      <th>3</th>\n",
       "      <td>KEGG_2021_Human</td>\n",
       "      <td>Endocytosis</td>\n",
       "      <td>0.199547</td>\n",
       "      <td>0.999689</td>\n",
       "      <td>0</td>\n",
       "      <td>0</td>\n",
       "      <td>3.100775</td>\n",
       "      <td>4.997538</td>\n",
       "      <td>WASHC4;ARPC1B;VPS4B;CLTC;AGAP1;NEDD4L;CDC42;GR...</td>\n",
       "    </tr>\n",
       "    <tr>\n",
       "      <th>4</th>\n",
       "      <td>KEGG_2021_Human</td>\n",
       "      <td>Ribosome biogenesis in eukaryotes</td>\n",
       "      <td>0.211922</td>\n",
       "      <td>0.999689</td>\n",
       "      <td>0</td>\n",
       "      <td>0</td>\n",
       "      <td>inf</td>\n",
       "      <td>inf</td>\n",
       "      <td>NOP56;WDR36;NOP58;POP1;RPP30;EFL1;CSNK2A2;SNU1...</td>\n",
       "    </tr>\n",
       "    <tr>\n",
       "      <th>...</th>\n",
       "      <td>...</td>\n",
       "      <td>...</td>\n",
       "      <td>...</td>\n",
       "      <td>...</td>\n",
       "      <td>...</td>\n",
       "      <td>...</td>\n",
       "      <td>...</td>\n",
       "      <td>...</td>\n",
       "      <td>...</td>\n",
       "    </tr>\n",
       "    <tr>\n",
       "      <th>292</th>\n",
       "      <td>KEGG_2021_Human</td>\n",
       "      <td>Proximal tubule bicarbonate reclamation</td>\n",
       "      <td>0.996882</td>\n",
       "      <td>0.999689</td>\n",
       "      <td>0</td>\n",
       "      <td>0</td>\n",
       "      <td>0.112618</td>\n",
       "      <td>0.000352</td>\n",
       "      <td>GLUD1;ATP1A1;PCK2</td>\n",
       "    </tr>\n",
       "    <tr>\n",
       "      <th>293</th>\n",
       "      <td>KEGG_2021_Human</td>\n",
       "      <td>Arginine biosynthesis</td>\n",
       "      <td>0.998684</td>\n",
       "      <td>0.999689</td>\n",
       "      <td>0</td>\n",
       "      <td>0</td>\n",
       "      <td>0.075032</td>\n",
       "      <td>0.000099</td>\n",
       "      <td>GLUD1;ASS1</td>\n",
       "    </tr>\n",
       "    <tr>\n",
       "      <th>294</th>\n",
       "      <td>KEGG_2021_Human</td>\n",
       "      <td>Ether lipid metabolism</td>\n",
       "      <td>0.998684</td>\n",
       "      <td>0.999689</td>\n",
       "      <td>0</td>\n",
       "      <td>0</td>\n",
       "      <td>0.075032</td>\n",
       "      <td>0.000099</td>\n",
       "      <td>AGPS;PAFAH1B3</td>\n",
       "    </tr>\n",
       "    <tr>\n",
       "      <th>295</th>\n",
       "      <td>KEGG_2021_Human</td>\n",
       "      <td>Mineral absorption</td>\n",
       "      <td>0.998684</td>\n",
       "      <td>0.999689</td>\n",
       "      <td>0</td>\n",
       "      <td>0</td>\n",
       "      <td>0.075032</td>\n",
       "      <td>0.000099</td>\n",
       "      <td>ATP2B4;ATP1A1</td>\n",
       "    </tr>\n",
       "    <tr>\n",
       "      <th>296</th>\n",
       "      <td>KEGG_2021_Human</td>\n",
       "      <td>Alanine, aspartate and glutamate metabolism</td>\n",
       "      <td>0.999689</td>\n",
       "      <td>0.999689</td>\n",
       "      <td>0</td>\n",
       "      <td>0</td>\n",
       "      <td>0.110936</td>\n",
       "      <td>0.000034</td>\n",
       "      <td>GLUD1;ADSL;PPAT;CAD;GFPT1;ASS1</td>\n",
       "    </tr>\n",
       "  </tbody>\n",
       "</table>\n",
       "<p>297 rows × 9 columns</p>\n",
       "</div>"
      ],
      "text/plain": [
       "            Gene_set                                         Term   P-value  \\\n",
       "0    KEGG_2021_Human                                     Ribosome  0.068823   \n",
       "1    KEGG_2021_Human                                   Proteasome  0.169514   \n",
       "2    KEGG_2021_Human                    Insulin signaling pathway  0.196731   \n",
       "3    KEGG_2021_Human                                  Endocytosis  0.199547   \n",
       "4    KEGG_2021_Human            Ribosome biogenesis in eukaryotes  0.211922   \n",
       "..               ...                                          ...       ...   \n",
       "292  KEGG_2021_Human      Proximal tubule bicarbonate reclamation  0.996882   \n",
       "293  KEGG_2021_Human                        Arginine biosynthesis  0.998684   \n",
       "294  KEGG_2021_Human                       Ether lipid metabolism  0.998684   \n",
       "295  KEGG_2021_Human                           Mineral absorption  0.998684   \n",
       "296  KEGG_2021_Human  Alanine, aspartate and glutamate metabolism  0.999689   \n",
       "\n",
       "     Adjusted P-value  Old P-value  Old adjusted P-value  Odds Ratio  \\\n",
       "0            0.999689            0                     0    4.549020   \n",
       "1            0.999689            0                     0         inf   \n",
       "2            0.999689            0                     0         inf   \n",
       "3            0.999689            0                     0    3.100775   \n",
       "4            0.999689            0                     0         inf   \n",
       "..                ...          ...                   ...         ...   \n",
       "292          0.999689            0                     0    0.112618   \n",
       "293          0.999689            0                     0    0.075032   \n",
       "294          0.999689            0                     0    0.075032   \n",
       "295          0.999689            0                     0    0.075032   \n",
       "296          0.999689            0                     0    0.110936   \n",
       "\n",
       "     Combined Score                                              Genes  \n",
       "0         12.174136  RPL4;RPL30;RPL3;MRPS16;RPL32;RPL34;MRPS11;RPLP...  \n",
       "1               inf  PSMD12;PSMD14;PSMD13;PSMA7;PSMB10;PSMB8;PSMB7;...  \n",
       "2               inf  GSK3B;PYGB;MAP2K1;PRKCI;MAP2K2;PRKAA2;RPS6;ARA...  \n",
       "3          4.997538  WASHC4;ARPC1B;VPS4B;CLTC;AGAP1;NEDD4L;CDC42;GR...  \n",
       "4               inf  NOP56;WDR36;NOP58;POP1;RPP30;EFL1;CSNK2A2;SNU1...  \n",
       "..              ...                                                ...  \n",
       "292        0.000352                                  GLUD1;ATP1A1;PCK2  \n",
       "293        0.000099                                         GLUD1;ASS1  \n",
       "294        0.000099                                      AGPS;PAFAH1B3  \n",
       "295        0.000099                                      ATP2B4;ATP1A1  \n",
       "296        0.000034                     GLUD1;ADSL;PPAT;CAD;GFPT1;ASS1  \n",
       "\n",
       "[297 rows x 9 columns]"
      ]
     },
     "execution_count": 33,
     "metadata": {},
     "output_type": "execute_result"
    }
   ],
   "source": [
    "custom_enrich_results.results"
   ]
  },
  {
   "cell_type": "markdown",
   "id": "1c781267-ad71-4254-b0f9-30723f67e4bc",
   "metadata": {},
   "source": [
    "# "
   ]
  },
  {
   "cell_type": "markdown",
   "id": "85200bf7-ef56-423d-ae04-95bb0a731751",
   "metadata": {},
   "source": [
    "## Plot Enrichment Results from Custom Background Set"
   ]
  },
  {
   "cell_type": "code",
   "execution_count": 34,
   "id": "8f36bcbc-e93a-4160-af94-c62aa36bb754",
   "metadata": {},
   "outputs": [
    {
     "name": "stdout",
     "output_type": "stream",
     "text": [
      "There are NO enriched terms based on the cutoff of 0.05\n"
     ]
    }
   ],
   "source": [
    "# check if results have significantly enriched terms based on adjusted p-val cutoff of 0.05\n",
    "num_custom_enrich_results = custom_enrich_results.res2d[custom_enrich_results.res2d['Adjusted P-value'] <= 0.05].shape[0]\n",
    "if (num_custom_enrich_results)  == 0:\n",
    "    print('There are NO enriched terms based on the cutoff of 0.05')\n",
    "else:\n",
    "    print('There are enriched terms based on the cutoff of 0.05')"
   ]
  },
  {
   "cell_type": "code",
   "execution_count": 35,
   "id": "f8a575df-d3dd-4c96-b6ea-9cbdcce09c78",
   "metadata": {},
   "outputs": [],
   "source": [
    "# specify customized plot options\n",
    "cutoff = 0.05\n",
    "top_nterms = 10"
   ]
  },
  {
   "cell_type": "code",
   "execution_count": 36,
   "id": "3e95c589-1ff2-4083-a997-84912b7b74ee",
   "metadata": {},
   "outputs": [
    {
     "name": "stdout",
     "output_type": "stream",
     "text": [
      "Could not plot custom enrichment results via gseapy package. Manually plot as a bar graph for visualizing < 0.05 values.\n"
     ]
    }
   ],
   "source": [
    "try: \n",
    "    plot_enrichment_bar(dataset_name, lib_name, custom_enrich_results, cutoff, top_nterms, save)\n",
    "except:\n",
    "    print(\"Could not plot custom enrichment results via gseapy package. Manually plot as a bar graph for visualizing < \" + str(cutoff) +  \" values.\")"
   ]
  },
  {
   "cell_type": "code",
   "execution_count": null,
   "id": "4aa8fe4a-cef7-4b61-ace2-959a5c555bc5",
   "metadata": {},
   "outputs": [],
   "source": []
  }
 ],
 "metadata": {
  "kernelspec": {
   "display_name": "Python 3 (ipykernel)",
   "language": "python",
   "name": "python3"
  },
  "language_info": {
   "codemirror_mode": {
    "name": "ipython",
    "version": 3
   },
   "file_extension": ".py",
   "mimetype": "text/x-python",
   "name": "python",
   "nbconvert_exporter": "python",
   "pygments_lexer": "ipython3",
   "version": "3.9.16"
  }
 },
 "nbformat": 4,
 "nbformat_minor": 5
}
