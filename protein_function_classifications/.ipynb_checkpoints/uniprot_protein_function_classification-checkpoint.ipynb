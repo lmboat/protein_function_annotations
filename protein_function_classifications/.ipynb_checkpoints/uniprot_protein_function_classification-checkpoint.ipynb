{
 "cells": [
  {
   "cell_type": "markdown",
   "metadata": {},
   "source": [
    "# Stratify proteins into functional classes based on UniProtKB keywords, experimentally identified adaptors & experimentally identified scaffold proteins"
   ]
  },
  {
   "cell_type": "code",
   "execution_count": 1,
   "metadata": {},
   "outputs": [],
   "source": [
    "# Author: Lisa Boatner\n",
    "# Date Created: 221128\n",
    "# Date Modified: 221206\n",
    "# Updates: "
   ]
  },
  {
   "cell_type": "markdown",
   "metadata": {},
   "source": [
    "# Import Modules "
   ]
  },
  {
   "cell_type": "code",
   "execution_count": 2,
   "metadata": {},
   "outputs": [],
   "source": [
    "import os, sys\n",
    "import numpy as np\n",
    "import pandas as pd\n",
    "import seaborn as sns\n",
    "import string\n",
    "from matplotlib import pyplot as plt"
   ]
  },
  {
   "cell_type": "code",
   "execution_count": 3,
   "metadata": {},
   "outputs": [
    {
     "data": {
      "text/plain": [
       "'/Users/lisamarieboatner/Dropbox/GitHub/protein_function_annotations/protein_function_classifications/data'"
      ]
     },
     "execution_count": 3,
     "metadata": {},
     "output_type": "execute_result"
    }
   ],
   "source": [
    "# assuming current directory is main folder\n",
    "os.chdir('data')\n",
    "cd = os.getcwd()\n",
    "cd"
   ]
  },
  {
   "cell_type": "code",
   "execution_count": 4,
   "metadata": {},
   "outputs": [],
   "source": [
    "# set the date for naming files\n",
    "date = '2401'"
   ]
  },
  {
   "cell_type": "markdown",
   "metadata": {},
   "source": [
    "# "
   ]
  },
  {
   "cell_type": "markdown",
   "metadata": {},
   "source": [
    "# UniProtKB "
   ]
  },
  {
   "cell_type": "markdown",
   "metadata": {},
   "source": [
    "## Download UniProt File with columns: Entry, Entry Name, Protein Names, Gene Names,  Description, Keywords\n",
    "## https://rest.uniprot.org/uniprotkb/search?fields=accession%2Creviewed%2Cid%2Cprotein_name%2Cgene_names%2Corganism_name%2Clength%2Cgene_primary%2Cgene_synonym%2Ckeyword&format=xlsx&query=%28Human%29+AND+%28model_organism%3A9606%29+AND+%28reviewed%3Atrue%29&size=500"
   ]
  },
  {
   "cell_type": "code",
   "execution_count": 5,
   "metadata": {},
   "outputs": [
    {
     "name": "stderr",
     "output_type": "stream",
     "text": [
      "/Users/lisamarieboatner/opt/anaconda3/lib/python3.9/site-packages/openpyxl/styles/stylesheet.py:226: UserWarning: Workbook contains no default style, apply openpyxl's default\n",
      "  warn(\"Workbook contains no default style, apply openpyxl's default\")\n"
     ]
    }
   ],
   "source": [
    "u_df = pd.read_excel('uniprotkb_Human_AND_model_organism_9606_2024_06_25.xlsx')"
   ]
  },
  {
   "cell_type": "code",
   "execution_count": 6,
   "metadata": {},
   "outputs": [
    {
     "data": {
      "text/plain": [
       "(20435, 10)"
      ]
     },
     "execution_count": 6,
     "metadata": {},
     "output_type": "execute_result"
    }
   ],
   "source": [
    "u_df.shape"
   ]
  },
  {
   "cell_type": "code",
   "execution_count": 7,
   "metadata": {},
   "outputs": [
    {
     "data": {
      "text/html": [
       "<div>\n",
       "<style scoped>\n",
       "    .dataframe tbody tr th:only-of-type {\n",
       "        vertical-align: middle;\n",
       "    }\n",
       "\n",
       "    .dataframe tbody tr th {\n",
       "        vertical-align: top;\n",
       "    }\n",
       "\n",
       "    .dataframe thead th {\n",
       "        text-align: right;\n",
       "    }\n",
       "</style>\n",
       "<table border=\"1\" class=\"dataframe\">\n",
       "  <thead>\n",
       "    <tr style=\"text-align: right;\">\n",
       "      <th></th>\n",
       "      <th>Entry</th>\n",
       "      <th>Reviewed</th>\n",
       "      <th>Entry Name</th>\n",
       "      <th>Protein names</th>\n",
       "      <th>Gene Names</th>\n",
       "      <th>Organism</th>\n",
       "      <th>Length</th>\n",
       "      <th>Gene Names (primary)</th>\n",
       "      <th>Gene Names (synonym)</th>\n",
       "      <th>Keywords</th>\n",
       "    </tr>\n",
       "  </thead>\n",
       "  <tbody>\n",
       "    <tr>\n",
       "      <th>0</th>\n",
       "      <td>A0A087X1C5</td>\n",
       "      <td>reviewed</td>\n",
       "      <td>CP2D7_HUMAN</td>\n",
       "      <td>Putative cytochrome P450 2D7 (EC 1.14.14.1)</td>\n",
       "      <td>CYP2D7</td>\n",
       "      <td>Homo sapiens (Human)</td>\n",
       "      <td>515</td>\n",
       "      <td>CYP2D7</td>\n",
       "      <td>NaN</td>\n",
       "      <td>Cytoplasm;Glycoprotein;Heme;Iron;Membrane;Meta...</td>\n",
       "    </tr>\n",
       "    <tr>\n",
       "      <th>1</th>\n",
       "      <td>A0A0B4J2F0</td>\n",
       "      <td>reviewed</td>\n",
       "      <td>PIOS1_HUMAN</td>\n",
       "      <td>Protein PIGBOS1 (PIGB opposite strand protein 1)</td>\n",
       "      <td>PIGBOS1</td>\n",
       "      <td>Homo sapiens (Human)</td>\n",
       "      <td>54</td>\n",
       "      <td>PIGBOS1</td>\n",
       "      <td>NaN</td>\n",
       "      <td>Direct protein sequencing;Membrane;Mitochondri...</td>\n",
       "    </tr>\n",
       "    <tr>\n",
       "      <th>2</th>\n",
       "      <td>A0A0B4J2F2</td>\n",
       "      <td>reviewed</td>\n",
       "      <td>SIK1B_HUMAN</td>\n",
       "      <td>Putative serine/threonine-protein kinase SIK1B...</td>\n",
       "      <td>SIK1B</td>\n",
       "      <td>Homo sapiens (Human)</td>\n",
       "      <td>783</td>\n",
       "      <td>SIK1B</td>\n",
       "      <td>NaN</td>\n",
       "      <td>ATP-binding;Kinase;Magnesium;Metal-binding;Nuc...</td>\n",
       "    </tr>\n",
       "    <tr>\n",
       "      <th>3</th>\n",
       "      <td>A0A0C5B5G6</td>\n",
       "      <td>reviewed</td>\n",
       "      <td>MOTSC_HUMAN</td>\n",
       "      <td>Mitochondrial-derived peptide MOTS-c (Mitochon...</td>\n",
       "      <td>MT-RNR1</td>\n",
       "      <td>Homo sapiens (Human)</td>\n",
       "      <td>16</td>\n",
       "      <td>MT-RNR1</td>\n",
       "      <td>NaN</td>\n",
       "      <td>DNA-binding;Mitochondrion;Nucleus;Osteogenesis...</td>\n",
       "    </tr>\n",
       "    <tr>\n",
       "      <th>4</th>\n",
       "      <td>A0A0K2S4Q6</td>\n",
       "      <td>reviewed</td>\n",
       "      <td>CD3CH_HUMAN</td>\n",
       "      <td>Protein CD300H (CD300 antigen-like family memb...</td>\n",
       "      <td>CD300H</td>\n",
       "      <td>Homo sapiens (Human)</td>\n",
       "      <td>201</td>\n",
       "      <td>CD300H</td>\n",
       "      <td>NaN</td>\n",
       "      <td>Alternative splicing;Disulfide bond;Glycoprote...</td>\n",
       "    </tr>\n",
       "  </tbody>\n",
       "</table>\n",
       "</div>"
      ],
      "text/plain": [
       "        Entry  Reviewed   Entry Name  \\\n",
       "0  A0A087X1C5  reviewed  CP2D7_HUMAN   \n",
       "1  A0A0B4J2F0  reviewed  PIOS1_HUMAN   \n",
       "2  A0A0B4J2F2  reviewed  SIK1B_HUMAN   \n",
       "3  A0A0C5B5G6  reviewed  MOTSC_HUMAN   \n",
       "4  A0A0K2S4Q6  reviewed  CD3CH_HUMAN   \n",
       "\n",
       "                                       Protein names Gene Names  \\\n",
       "0        Putative cytochrome P450 2D7 (EC 1.14.14.1)     CYP2D7   \n",
       "1   Protein PIGBOS1 (PIGB opposite strand protein 1)    PIGBOS1   \n",
       "2  Putative serine/threonine-protein kinase SIK1B...      SIK1B   \n",
       "3  Mitochondrial-derived peptide MOTS-c (Mitochon...    MT-RNR1   \n",
       "4  Protein CD300H (CD300 antigen-like family memb...     CD300H   \n",
       "\n",
       "               Organism  Length Gene Names (primary) Gene Names (synonym)  \\\n",
       "0  Homo sapiens (Human)     515               CYP2D7                  NaN   \n",
       "1  Homo sapiens (Human)      54              PIGBOS1                  NaN   \n",
       "2  Homo sapiens (Human)     783                SIK1B                  NaN   \n",
       "3  Homo sapiens (Human)      16              MT-RNR1                  NaN   \n",
       "4  Homo sapiens (Human)     201               CD300H                  NaN   \n",
       "\n",
       "                                            Keywords  \n",
       "0  Cytoplasm;Glycoprotein;Heme;Iron;Membrane;Meta...  \n",
       "1  Direct protein sequencing;Membrane;Mitochondri...  \n",
       "2  ATP-binding;Kinase;Magnesium;Metal-binding;Nuc...  \n",
       "3  DNA-binding;Mitochondrion;Nucleus;Osteogenesis...  \n",
       "4  Alternative splicing;Disulfide bond;Glycoprote...  "
      ]
     },
     "execution_count": 7,
     "metadata": {},
     "output_type": "execute_result"
    }
   ],
   "source": [
    "u_df.head()"
   ]
  },
  {
   "cell_type": "code",
   "execution_count": 8,
   "metadata": {},
   "outputs": [
    {
     "data": {
      "text/plain": [
       "['Entry',\n",
       " 'Reviewed',\n",
       " 'Entry Name',\n",
       " 'Protein names',\n",
       " 'Gene Names',\n",
       " 'Organism',\n",
       " 'Length',\n",
       " 'Gene Names (primary)',\n",
       " 'Gene Names (synonym)',\n",
       " 'Keywords']"
      ]
     },
     "execution_count": 8,
     "metadata": {},
     "output_type": "execute_result"
    }
   ],
   "source": [
    "u_df.columns.to_list()"
   ]
  },
  {
   "cell_type": "markdown",
   "metadata": {},
   "source": [
    "# "
   ]
  },
  {
   "cell_type": "markdown",
   "metadata": {},
   "source": [
    "# Human Protein Atlas FDA"
   ]
  },
  {
   "cell_type": "markdown",
   "metadata": {},
   "source": [
    "## Download Human Protein Atlas version 22.0\n",
    "## https://www.proteinatlas.org/about/download"
   ]
  },
  {
   "cell_type": "code",
   "execution_count": 9,
   "metadata": {},
   "outputs": [],
   "source": [
    "h_df = pd.read_table('proteinatlas.tsv')"
   ]
  },
  {
   "cell_type": "code",
   "execution_count": 10,
   "metadata": {},
   "outputs": [
    {
     "data": {
      "text/plain": [
       "(20162, 89)"
      ]
     },
     "execution_count": 10,
     "metadata": {},
     "output_type": "execute_result"
    }
   ],
   "source": [
    "h_df.shape"
   ]
  },
  {
   "cell_type": "code",
   "execution_count": 11,
   "metadata": {},
   "outputs": [
    {
     "data": {
      "text/html": [
       "<div>\n",
       "<style scoped>\n",
       "    .dataframe tbody tr th:only-of-type {\n",
       "        vertical-align: middle;\n",
       "    }\n",
       "\n",
       "    .dataframe tbody tr th {\n",
       "        vertical-align: top;\n",
       "    }\n",
       "\n",
       "    .dataframe thead th {\n",
       "        text-align: right;\n",
       "    }\n",
       "</style>\n",
       "<table border=\"1\" class=\"dataframe\">\n",
       "  <thead>\n",
       "    <tr style=\"text-align: right;\">\n",
       "      <th></th>\n",
       "      <th>Gene</th>\n",
       "      <th>Gene synonym</th>\n",
       "      <th>Ensembl</th>\n",
       "      <th>Gene description</th>\n",
       "      <th>Uniprot</th>\n",
       "      <th>Chromosome</th>\n",
       "      <th>Position</th>\n",
       "      <th>Protein class</th>\n",
       "      <th>Biological process</th>\n",
       "      <th>Molecular function</th>\n",
       "      <th>...</th>\n",
       "      <th>Pathology prognostics - Lung cancer</th>\n",
       "      <th>Pathology prognostics - Melanoma</th>\n",
       "      <th>Pathology prognostics - Ovarian cancer</th>\n",
       "      <th>Pathology prognostics - Pancreatic cancer</th>\n",
       "      <th>Pathology prognostics - Prostate cancer</th>\n",
       "      <th>Pathology prognostics - Renal cancer</th>\n",
       "      <th>Pathology prognostics - Stomach cancer</th>\n",
       "      <th>Pathology prognostics - Testis cancer</th>\n",
       "      <th>Pathology prognostics - Thyroid cancer</th>\n",
       "      <th>Pathology prognostics - Urothelial cancer</th>\n",
       "    </tr>\n",
       "  </thead>\n",
       "  <tbody>\n",
       "    <tr>\n",
       "      <th>0</th>\n",
       "      <td>TSPAN6</td>\n",
       "      <td>T245, TM4SF6, TSPAN-6</td>\n",
       "      <td>ENSG00000000003</td>\n",
       "      <td>Tetraspanin 6</td>\n",
       "      <td>O43657</td>\n",
       "      <td>X</td>\n",
       "      <td>100627108-100639991</td>\n",
       "      <td>Predicted intracellular proteins, Predicted me...</td>\n",
       "      <td>NaN</td>\n",
       "      <td>NaN</td>\n",
       "      <td>...</td>\n",
       "      <td>unprognostic (1.09e-2)</td>\n",
       "      <td>unprognostic (1.19e-2)</td>\n",
       "      <td>unprognostic (1.80e-3)</td>\n",
       "      <td>unprognostic (2.04e-3)</td>\n",
       "      <td>unprognostic (8.76e-2)</td>\n",
       "      <td>unprognostic (3.83e-3)</td>\n",
       "      <td>unprognostic (4.28e-2)</td>\n",
       "      <td>unprognostic (1.14e-1)</td>\n",
       "      <td>unprognostic (2.24e-1)</td>\n",
       "      <td>unprognostic (9.54e-3)</td>\n",
       "    </tr>\n",
       "    <tr>\n",
       "      <th>1</th>\n",
       "      <td>TNMD</td>\n",
       "      <td>BRICD4, ChM1L, myodulin, TEM, tendin</td>\n",
       "      <td>ENSG00000000005</td>\n",
       "      <td>Tenomodulin</td>\n",
       "      <td>Q9H2S6</td>\n",
       "      <td>X</td>\n",
       "      <td>100584936-100599885</td>\n",
       "      <td>Predicted membrane proteins</td>\n",
       "      <td>NaN</td>\n",
       "      <td>NaN</td>\n",
       "      <td>...</td>\n",
       "      <td>NaN</td>\n",
       "      <td>NaN</td>\n",
       "      <td>unprognostic (2.15e-1)</td>\n",
       "      <td>unprognostic (2.36e-2)</td>\n",
       "      <td>unprognostic (1.37e-1)</td>\n",
       "      <td>unprognostic (9.40e-2)</td>\n",
       "      <td>unprognostic (9.60e-4)</td>\n",
       "      <td>unprognostic (6.82e-2)</td>\n",
       "      <td>unprognostic (5.67e-2)</td>\n",
       "      <td>unprognostic (1.48e-1)</td>\n",
       "    </tr>\n",
       "    <tr>\n",
       "      <th>2</th>\n",
       "      <td>DPM1</td>\n",
       "      <td>CDGIE, MPDS</td>\n",
       "      <td>ENSG00000000419</td>\n",
       "      <td>Dolichyl-phosphate mannosyltransferase subunit...</td>\n",
       "      <td>O60762</td>\n",
       "      <td>20</td>\n",
       "      <td>50934867-50959140</td>\n",
       "      <td>Disease related genes, Enzymes, Human disease ...</td>\n",
       "      <td>NaN</td>\n",
       "      <td>Glycosyltransferase, Transferase</td>\n",
       "      <td>...</td>\n",
       "      <td>unprognostic (1.10e-1)</td>\n",
       "      <td>unprognostic (7.49e-2)</td>\n",
       "      <td>unprognostic (2.53e-2)</td>\n",
       "      <td>unprognostic (1.29e-2)</td>\n",
       "      <td>unprognostic (3.61e-2)</td>\n",
       "      <td>unprognostic (3.02e-3)</td>\n",
       "      <td>unprognostic (4.98e-2)</td>\n",
       "      <td>unprognostic (2.59e-1)</td>\n",
       "      <td>unprognostic (3.58e-1)</td>\n",
       "      <td>unprognostic (2.74e-1)</td>\n",
       "    </tr>\n",
       "    <tr>\n",
       "      <th>3</th>\n",
       "      <td>SCYL3</td>\n",
       "      <td>PACE-1, PACE1</td>\n",
       "      <td>ENSG00000000457</td>\n",
       "      <td>SCY1 like pseudokinase 3</td>\n",
       "      <td>Q8IZE3</td>\n",
       "      <td>1</td>\n",
       "      <td>169849631-169894267</td>\n",
       "      <td>Enzymes, Predicted intracellular proteins</td>\n",
       "      <td>NaN</td>\n",
       "      <td>NaN</td>\n",
       "      <td>...</td>\n",
       "      <td>unprognostic (2.12e-2)</td>\n",
       "      <td>unprognostic (2.85e-2)</td>\n",
       "      <td>unprognostic (7.17e-2)</td>\n",
       "      <td>unprognostic (8.80e-2)</td>\n",
       "      <td>unprognostic (9.88e-2)</td>\n",
       "      <td>unprognostic (1.20e-3)</td>\n",
       "      <td>unprognostic (3.54e-1)</td>\n",
       "      <td>unprognostic (1.75e-1)</td>\n",
       "      <td>unprognostic (4.60e-2)</td>\n",
       "      <td>prognostic favorable (8.85e-4)</td>\n",
       "    </tr>\n",
       "    <tr>\n",
       "      <th>4</th>\n",
       "      <td>C1orf112</td>\n",
       "      <td>FLJ10706</td>\n",
       "      <td>ENSG00000000460</td>\n",
       "      <td>Chromosome 1 open reading frame 112</td>\n",
       "      <td>Q9NSG2</td>\n",
       "      <td>1</td>\n",
       "      <td>169662007-169854080</td>\n",
       "      <td>Predicted intracellular proteins</td>\n",
       "      <td>NaN</td>\n",
       "      <td>NaN</td>\n",
       "      <td>...</td>\n",
       "      <td>unprognostic (2.09e-1)</td>\n",
       "      <td>unprognostic (9.11e-3)</td>\n",
       "      <td>unprognostic (8.79e-2)</td>\n",
       "      <td>unprognostic (3.47e-3)</td>\n",
       "      <td>unprognostic (5.97e-2)</td>\n",
       "      <td>unprognostic (1.65e-8)</td>\n",
       "      <td>unprognostic (1.76e-1)</td>\n",
       "      <td>unprognostic (2.81e-2)</td>\n",
       "      <td>unprognostic (6.17e-2)</td>\n",
       "      <td>unprognostic (2.63e-1)</td>\n",
       "    </tr>\n",
       "  </tbody>\n",
       "</table>\n",
       "<p>5 rows × 89 columns</p>\n",
       "</div>"
      ],
      "text/plain": [
       "       Gene                          Gene synonym          Ensembl  \\\n",
       "0    TSPAN6                 T245, TM4SF6, TSPAN-6  ENSG00000000003   \n",
       "1      TNMD  BRICD4, ChM1L, myodulin, TEM, tendin  ENSG00000000005   \n",
       "2      DPM1                           CDGIE, MPDS  ENSG00000000419   \n",
       "3     SCYL3                         PACE-1, PACE1  ENSG00000000457   \n",
       "4  C1orf112                              FLJ10706  ENSG00000000460   \n",
       "\n",
       "                                    Gene description Uniprot Chromosome  \\\n",
       "0                                      Tetraspanin 6  O43657          X   \n",
       "1                                        Tenomodulin  Q9H2S6          X   \n",
       "2  Dolichyl-phosphate mannosyltransferase subunit...  O60762         20   \n",
       "3                           SCY1 like pseudokinase 3  Q8IZE3          1   \n",
       "4                Chromosome 1 open reading frame 112  Q9NSG2          1   \n",
       "\n",
       "              Position                                      Protein class  \\\n",
       "0  100627108-100639991  Predicted intracellular proteins, Predicted me...   \n",
       "1  100584936-100599885                        Predicted membrane proteins   \n",
       "2    50934867-50959140  Disease related genes, Enzymes, Human disease ...   \n",
       "3  169849631-169894267          Enzymes, Predicted intracellular proteins   \n",
       "4  169662007-169854080                   Predicted intracellular proteins   \n",
       "\n",
       "  Biological process                Molecular function  ...  \\\n",
       "0                NaN                               NaN  ...   \n",
       "1                NaN                               NaN  ...   \n",
       "2                NaN  Glycosyltransferase, Transferase  ...   \n",
       "3                NaN                               NaN  ...   \n",
       "4                NaN                               NaN  ...   \n",
       "\n",
       "  Pathology prognostics - Lung cancer Pathology prognostics - Melanoma  \\\n",
       "0              unprognostic (1.09e-2)           unprognostic (1.19e-2)   \n",
       "1                                 NaN                              NaN   \n",
       "2              unprognostic (1.10e-1)           unprognostic (7.49e-2)   \n",
       "3              unprognostic (2.12e-2)           unprognostic (2.85e-2)   \n",
       "4              unprognostic (2.09e-1)           unprognostic (9.11e-3)   \n",
       "\n",
       "  Pathology prognostics - Ovarian cancer  \\\n",
       "0                 unprognostic (1.80e-3)   \n",
       "1                 unprognostic (2.15e-1)   \n",
       "2                 unprognostic (2.53e-2)   \n",
       "3                 unprognostic (7.17e-2)   \n",
       "4                 unprognostic (8.79e-2)   \n",
       "\n",
       "  Pathology prognostics - Pancreatic cancer  \\\n",
       "0                    unprognostic (2.04e-3)   \n",
       "1                    unprognostic (2.36e-2)   \n",
       "2                    unprognostic (1.29e-2)   \n",
       "3                    unprognostic (8.80e-2)   \n",
       "4                    unprognostic (3.47e-3)   \n",
       "\n",
       "  Pathology prognostics - Prostate cancer  \\\n",
       "0                  unprognostic (8.76e-2)   \n",
       "1                  unprognostic (1.37e-1)   \n",
       "2                  unprognostic (3.61e-2)   \n",
       "3                  unprognostic (9.88e-2)   \n",
       "4                  unprognostic (5.97e-2)   \n",
       "\n",
       "  Pathology prognostics - Renal cancer Pathology prognostics - Stomach cancer  \\\n",
       "0               unprognostic (3.83e-3)                 unprognostic (4.28e-2)   \n",
       "1               unprognostic (9.40e-2)                 unprognostic (9.60e-4)   \n",
       "2               unprognostic (3.02e-3)                 unprognostic (4.98e-2)   \n",
       "3               unprognostic (1.20e-3)                 unprognostic (3.54e-1)   \n",
       "4               unprognostic (1.65e-8)                 unprognostic (1.76e-1)   \n",
       "\n",
       "   Pathology prognostics - Testis cancer  \\\n",
       "0                 unprognostic (1.14e-1)   \n",
       "1                 unprognostic (6.82e-2)   \n",
       "2                 unprognostic (2.59e-1)   \n",
       "3                 unprognostic (1.75e-1)   \n",
       "4                 unprognostic (2.81e-2)   \n",
       "\n",
       "  Pathology prognostics - Thyroid cancer  \\\n",
       "0                 unprognostic (2.24e-1)   \n",
       "1                 unprognostic (5.67e-2)   \n",
       "2                 unprognostic (3.58e-1)   \n",
       "3                 unprognostic (4.60e-2)   \n",
       "4                 unprognostic (6.17e-2)   \n",
       "\n",
       "  Pathology prognostics - Urothelial cancer  \n",
       "0                    unprognostic (9.54e-3)  \n",
       "1                    unprognostic (1.48e-1)  \n",
       "2                    unprognostic (2.74e-1)  \n",
       "3            prognostic favorable (8.85e-4)  \n",
       "4                    unprognostic (2.63e-1)  \n",
       "\n",
       "[5 rows x 89 columns]"
      ]
     },
     "execution_count": 11,
     "metadata": {},
     "output_type": "execute_result"
    }
   ],
   "source": [
    "h_df.head()"
   ]
  },
  {
   "cell_type": "code",
   "execution_count": 12,
   "metadata": {},
   "outputs": [],
   "source": [
    "# create FDA label\n",
    "h_fda = h_df['Protein class'].str.contains('FDA approved drug targets')\n",
    "h_df['HPA'] = True\n",
    "h_df['FDA'] = h_fda"
   ]
  },
  {
   "cell_type": "code",
   "execution_count": 13,
   "metadata": {},
   "outputs": [],
   "source": [
    "# identify known transcription factors\n",
    "h_tf = h_df['Protein class'].str.contains('Transcription factors')\n",
    "h_df['known_transcription_factors'] = h_tf"
   ]
  },
  {
   "cell_type": "code",
   "execution_count": 14,
   "metadata": {},
   "outputs": [],
   "source": [
    "# identify known channels\n",
    "h_transporters = (h_df['Protein class'].str.contains('Transporters')) | (h_df['Protein class'].str.contains('Voltage-gated ion channels'))\n",
    "h_df['known_transporters_channels'] = h_transporters"
   ]
  },
  {
   "cell_type": "code",
   "execution_count": 15,
   "metadata": {},
   "outputs": [
    {
     "data": {
      "text/plain": [
       "(19189, 7)"
      ]
     },
     "execution_count": 15,
     "metadata": {},
     "output_type": "execute_result"
    }
   ],
   "source": [
    "# subset dataframe for only columns we want\n",
    "subset_h_df = h_df[['Uniprot', 'Protein class', 'Disease involvement', 'known_transcription_factors', 'known_transporters_channels', 'FDA', \"HPA\"]]\n",
    "subset_h_df = subset_h_df[subset_h_df['Uniprot'].notna()]\n",
    "subset_h_df = subset_h_df.drop_duplicates()\n",
    "subset_h_df.shape"
   ]
  },
  {
   "cell_type": "code",
   "execution_count": 16,
   "metadata": {},
   "outputs": [
    {
     "data": {
      "text/plain": [
       "(19169, 7)"
      ]
     },
     "execution_count": 16,
     "metadata": {},
     "output_type": "execute_result"
    }
   ],
   "source": [
    "# subset unique proteins\n",
    "non_duplicates = subset_h_df.drop_duplicates(subset = ['Uniprot'], keep = False)\n",
    "non_duplicates.shape"
   ]
  },
  {
   "cell_type": "code",
   "execution_count": 17,
   "metadata": {},
   "outputs": [
    {
     "data": {
      "text/plain": [
       "(20, 7)"
      ]
     },
     "execution_count": 17,
     "metadata": {},
     "output_type": "execute_result"
    }
   ],
   "source": [
    "# identify duplicate proteins\n",
    "duplicates = subset_h_df[subset_h_df['Uniprot'].duplicated(keep = False)]\n",
    "duplicates.shape"
   ]
  },
  {
   "cell_type": "code",
   "execution_count": 18,
   "metadata": {},
   "outputs": [],
   "source": [
    "# remove duplicate protein ids and keep the protein with the longest functional annotation\n",
    "def get_remove_ids(df):\n",
    "    \n",
    "    remove_ids = []\n",
    "    \n",
    "    groups = df.groupby('Uniprot')\n",
    "    \n",
    "    for name, group in groups:\n",
    "        max_len = max(group['str_length'])\n",
    "        remove_id = group[group['str_length'] != max_len]\n",
    "        \n",
    "        remove_ids.append(int(remove_id['id']))\n",
    "    \n",
    "    return remove_ids"
   ]
  },
  {
   "cell_type": "code",
   "execution_count": 19,
   "metadata": {},
   "outputs": [
    {
     "name": "stderr",
     "output_type": "stream",
     "text": [
      "/var/folders/kp/78ttbq6n3cxcn3kddjvbpygr0000gn/T/ipykernel_90319/4285074463.py:2: SettingWithCopyWarning: \n",
      "A value is trying to be set on a copy of a slice from a DataFrame.\n",
      "Try using .loc[row_indexer,col_indexer] = value instead\n",
      "\n",
      "See the caveats in the documentation: https://pandas.pydata.org/pandas-docs/stable/user_guide/indexing.html#returning-a-view-versus-a-copy\n",
      "  duplicates['id'] = duplicates.index\n",
      "/var/folders/kp/78ttbq6n3cxcn3kddjvbpygr0000gn/T/ipykernel_90319/4285074463.py:3: SettingWithCopyWarning: \n",
      "A value is trying to be set on a copy of a slice from a DataFrame.\n",
      "Try using .loc[row_indexer,col_indexer] = value instead\n",
      "\n",
      "See the caveats in the documentation: https://pandas.pydata.org/pandas-docs/stable/user_guide/indexing.html#returning-a-view-versus-a-copy\n",
      "  duplicates['str_length'] = duplicates['Protein class'].str.len()\n"
     ]
    }
   ],
   "source": [
    "# track row indices \n",
    "duplicates['id'] = duplicates.index\n",
    "duplicates['str_length'] = duplicates['Protein class'].str.len()"
   ]
  },
  {
   "cell_type": "code",
   "execution_count": 20,
   "metadata": {},
   "outputs": [
    {
     "name": "stderr",
     "output_type": "stream",
     "text": [
      "/var/folders/kp/78ttbq6n3cxcn3kddjvbpygr0000gn/T/ipykernel_90319/1615641837.py:3: SettingWithCopyWarning: \n",
      "A value is trying to be set on a copy of a slice from a DataFrame.\n",
      "Try using .loc[row_indexer,col_indexer] = value instead\n",
      "\n",
      "See the caveats in the documentation: https://pandas.pydata.org/pandas-docs/stable/user_guide/indexing.html#returning-a-view-versus-a-copy\n",
      "  duplicates['Keep'] = np.where(duplicates['id'].isin(remove_ids), False, True)\n"
     ]
    }
   ],
   "source": [
    "# keep protein with longest annotation\n",
    "remove_ids = get_remove_ids(duplicates)\n",
    "duplicates['Keep'] = np.where(duplicates['id'].isin(remove_ids), False, True)\n",
    "kept_duplicates = duplicates[duplicates['Keep'] == True]\n",
    "final_subset_h_df = pd.concat([non_duplicates, kept_duplicates])\n",
    "final_subset_h_df = final_subset_h_df.drop(columns = ['Keep'])"
   ]
  },
  {
   "cell_type": "markdown",
   "metadata": {},
   "source": [
    "# "
   ]
  },
  {
   "cell_type": "markdown",
   "metadata": {},
   "source": [
    "# Merge UniProtKB and HPA annotations "
   ]
  },
  {
   "cell_type": "code",
   "execution_count": 21,
   "metadata": {},
   "outputs": [
    {
     "data": {
      "text/plain": [
       "(20435, 19)"
      ]
     },
     "execution_count": 21,
     "metadata": {},
     "output_type": "execute_result"
    }
   ],
   "source": [
    "# merge UniProtKB and HPA annotations\n",
    "merged_df = u_df.merge(final_subset_h_df, left_on='Entry', right_on='Uniprot', how='left')\n",
    "merged_df.shape"
   ]
  },
  {
   "cell_type": "markdown",
   "metadata": {},
   "source": [
    "# "
   ]
  },
  {
   "cell_type": "markdown",
   "metadata": {},
   "source": [
    "# Read experimentally identified adaptors and scaffolds"
   ]
  },
  {
   "cell_type": "code",
   "execution_count": 22,
   "metadata": {},
   "outputs": [],
   "source": [
    "adaptor_df = pd.read_csv('adaptor_ids.csv')\n",
    "adaptor_df = adaptor_df.dropna()\n",
    "adaptor_df['known_adaptors'] = True\n",
    "adaptor_ids = adaptor_df['Known Adaptor Proteins'].str.strip().unique()"
   ]
  },
  {
   "cell_type": "code",
   "execution_count": 23,
   "metadata": {},
   "outputs": [],
   "source": [
    "scaffold_df = pd.read_csv('scaffold_ids.csv')\n",
    "scaffold_df['known_scaffolds'] = True\n",
    "scaffold_ids = scaffold_df['Known Scaffold Protein'].str.strip().unique()"
   ]
  },
  {
   "cell_type": "code",
   "execution_count": 24,
   "metadata": {},
   "outputs": [],
   "source": [
    "def get_known(df, known_list):\n",
    "    known = []\n",
    "    for index, row in df.iterrows():\n",
    "        current = row['Gene Names (primary)']\n",
    "        found = False\n",
    "        if current is np.nan:\n",
    "            known.append(found)\n",
    "            continue\n",
    "        for i in range(len(known_list)):\n",
    "            if known_list[i].strip() in current:\n",
    "                found = True\n",
    "                \n",
    "        known.append(found)\n",
    "    return known"
   ]
  },
  {
   "cell_type": "code",
   "execution_count": 25,
   "metadata": {},
   "outputs": [],
   "source": [
    "known_adaptors = get_known(merged_df, adaptor_ids)\n",
    "merged_df['known_adaptors'] = known_adaptors"
   ]
  },
  {
   "cell_type": "code",
   "execution_count": 26,
   "metadata": {},
   "outputs": [],
   "source": [
    "known_scaffolds = get_known(merged_df, scaffold_ids)\n",
    "merged_df['known_scaffolds'] = known_scaffolds"
   ]
  },
  {
   "cell_type": "code",
   "execution_count": 27,
   "metadata": {},
   "outputs": [],
   "source": [
    "panther_df = pd.read_csv('panther_scaffold_ids.csv')\n",
    "panther_df['panther_scaffold'] = True\n",
    "panther_scaffold_ids = panther_df['protein'].str.strip().unique()"
   ]
  },
  {
   "cell_type": "markdown",
   "metadata": {},
   "source": [
    "# "
   ]
  },
  {
   "cell_type": "markdown",
   "metadata": {},
   "source": [
    "# Merge UniProtKB, HPA and known adaptors and scaffolds"
   ]
  },
  {
   "cell_type": "code",
   "execution_count": 28,
   "metadata": {},
   "outputs": [
    {
     "data": {
      "text/plain": [
       "(20435, 23)"
      ]
     },
     "execution_count": 28,
     "metadata": {},
     "output_type": "execute_result"
    }
   ],
   "source": [
    "final_df = pd.merge(merged_df, panther_df, left_on = 'Entry', right_on = 'protein', how = 'left')\n",
    "final_df.shape"
   ]
  },
  {
   "cell_type": "code",
   "execution_count": 29,
   "metadata": {},
   "outputs": [
    {
     "data": {
      "text/plain": [
       "['Entry',\n",
       " 'Reviewed',\n",
       " 'Entry Name',\n",
       " 'Protein names',\n",
       " 'Gene Names',\n",
       " 'Organism',\n",
       " 'Length',\n",
       " 'Gene Names (primary)',\n",
       " 'Gene Names (synonym)',\n",
       " 'Keywords',\n",
       " 'Uniprot',\n",
       " 'Protein class',\n",
       " 'Disease involvement',\n",
       " 'known_transcription_factors',\n",
       " 'known_transporters_channels',\n",
       " 'FDA',\n",
       " 'HPA',\n",
       " 'id',\n",
       " 'str_length',\n",
       " 'known_adaptors',\n",
       " 'known_scaffolds',\n",
       " 'protein',\n",
       " 'panther_scaffold']"
      ]
     },
     "execution_count": 29,
     "metadata": {},
     "output_type": "execute_result"
    }
   ],
   "source": [
    "final_df.columns.to_list()"
   ]
  },
  {
   "cell_type": "code",
   "execution_count": 30,
   "metadata": {},
   "outputs": [],
   "source": [
    "# remove extraneous columns\n",
    "final_df = final_df.drop(columns = ['id',\n",
    "                                    'str_length',\n",
    "                                    'protein'])"
   ]
  },
  {
   "cell_type": "code",
   "execution_count": 31,
   "metadata": {},
   "outputs": [
    {
     "data": {
      "text/html": [
       "<div>\n",
       "<style scoped>\n",
       "    .dataframe tbody tr th:only-of-type {\n",
       "        vertical-align: middle;\n",
       "    }\n",
       "\n",
       "    .dataframe tbody tr th {\n",
       "        vertical-align: top;\n",
       "    }\n",
       "\n",
       "    .dataframe thead th {\n",
       "        text-align: right;\n",
       "    }\n",
       "</style>\n",
       "<table border=\"1\" class=\"dataframe\">\n",
       "  <thead>\n",
       "    <tr style=\"text-align: right;\">\n",
       "      <th></th>\n",
       "      <th>Entry</th>\n",
       "      <th>Reviewed</th>\n",
       "      <th>Entry Name</th>\n",
       "      <th>Protein names</th>\n",
       "      <th>Gene Names</th>\n",
       "      <th>Organism</th>\n",
       "      <th>Length</th>\n",
       "      <th>Gene Names (primary)</th>\n",
       "      <th>Gene Names (synonym)</th>\n",
       "      <th>Keywords</th>\n",
       "      <th>Uniprot</th>\n",
       "      <th>Protein class</th>\n",
       "      <th>Disease involvement</th>\n",
       "      <th>known_transcription_factors</th>\n",
       "      <th>known_transporters_channels</th>\n",
       "      <th>FDA</th>\n",
       "      <th>HPA</th>\n",
       "      <th>known_adaptors</th>\n",
       "      <th>known_scaffolds</th>\n",
       "      <th>panther_scaffold</th>\n",
       "    </tr>\n",
       "  </thead>\n",
       "  <tbody>\n",
       "    <tr>\n",
       "      <th>0</th>\n",
       "      <td>A0A087X1C5</td>\n",
       "      <td>reviewed</td>\n",
       "      <td>CP2D7_HUMAN</td>\n",
       "      <td>Putative cytochrome P450 2D7 (EC 1.14.14.1)</td>\n",
       "      <td>CYP2D7</td>\n",
       "      <td>Homo sapiens (Human)</td>\n",
       "      <td>515</td>\n",
       "      <td>CYP2D7</td>\n",
       "      <td>NaN</td>\n",
       "      <td>Cytoplasm;Glycoprotein;Heme;Iron;Membrane;Meta...</td>\n",
       "      <td>NaN</td>\n",
       "      <td>NaN</td>\n",
       "      <td>NaN</td>\n",
       "      <td>NaN</td>\n",
       "      <td>NaN</td>\n",
       "      <td>NaN</td>\n",
       "      <td>NaN</td>\n",
       "      <td>False</td>\n",
       "      <td>False</td>\n",
       "      <td>NaN</td>\n",
       "    </tr>\n",
       "    <tr>\n",
       "      <th>1</th>\n",
       "      <td>A0A0B4J2F0</td>\n",
       "      <td>reviewed</td>\n",
       "      <td>PIOS1_HUMAN</td>\n",
       "      <td>Protein PIGBOS1 (PIGB opposite strand protein 1)</td>\n",
       "      <td>PIGBOS1</td>\n",
       "      <td>Homo sapiens (Human)</td>\n",
       "      <td>54</td>\n",
       "      <td>PIGBOS1</td>\n",
       "      <td>NaN</td>\n",
       "      <td>Direct protein sequencing;Membrane;Mitochondri...</td>\n",
       "      <td>A0A0B4J2F0</td>\n",
       "      <td>Predicted intracellular proteins</td>\n",
       "      <td>NaN</td>\n",
       "      <td>False</td>\n",
       "      <td>False</td>\n",
       "      <td>False</td>\n",
       "      <td>True</td>\n",
       "      <td>False</td>\n",
       "      <td>False</td>\n",
       "      <td>NaN</td>\n",
       "    </tr>\n",
       "    <tr>\n",
       "      <th>2</th>\n",
       "      <td>A0A0B4J2F2</td>\n",
       "      <td>reviewed</td>\n",
       "      <td>SIK1B_HUMAN</td>\n",
       "      <td>Putative serine/threonine-protein kinase SIK1B...</td>\n",
       "      <td>SIK1B</td>\n",
       "      <td>Homo sapiens (Human)</td>\n",
       "      <td>783</td>\n",
       "      <td>SIK1B</td>\n",
       "      <td>NaN</td>\n",
       "      <td>ATP-binding;Kinase;Magnesium;Metal-binding;Nuc...</td>\n",
       "      <td>NaN</td>\n",
       "      <td>NaN</td>\n",
       "      <td>NaN</td>\n",
       "      <td>NaN</td>\n",
       "      <td>NaN</td>\n",
       "      <td>NaN</td>\n",
       "      <td>NaN</td>\n",
       "      <td>False</td>\n",
       "      <td>False</td>\n",
       "      <td>NaN</td>\n",
       "    </tr>\n",
       "    <tr>\n",
       "      <th>3</th>\n",
       "      <td>A0A0C5B5G6</td>\n",
       "      <td>reviewed</td>\n",
       "      <td>MOTSC_HUMAN</td>\n",
       "      <td>Mitochondrial-derived peptide MOTS-c (Mitochon...</td>\n",
       "      <td>MT-RNR1</td>\n",
       "      <td>Homo sapiens (Human)</td>\n",
       "      <td>16</td>\n",
       "      <td>MT-RNR1</td>\n",
       "      <td>NaN</td>\n",
       "      <td>DNA-binding;Mitochondrion;Nucleus;Osteogenesis...</td>\n",
       "      <td>NaN</td>\n",
       "      <td>NaN</td>\n",
       "      <td>NaN</td>\n",
       "      <td>NaN</td>\n",
       "      <td>NaN</td>\n",
       "      <td>NaN</td>\n",
       "      <td>NaN</td>\n",
       "      <td>False</td>\n",
       "      <td>False</td>\n",
       "      <td>NaN</td>\n",
       "    </tr>\n",
       "    <tr>\n",
       "      <th>4</th>\n",
       "      <td>A0A0K2S4Q6</td>\n",
       "      <td>reviewed</td>\n",
       "      <td>CD3CH_HUMAN</td>\n",
       "      <td>Protein CD300H (CD300 antigen-like family memb...</td>\n",
       "      <td>CD300H</td>\n",
       "      <td>Homo sapiens (Human)</td>\n",
       "      <td>201</td>\n",
       "      <td>CD300H</td>\n",
       "      <td>NaN</td>\n",
       "      <td>Alternative splicing;Disulfide bond;Glycoprote...</td>\n",
       "      <td>A0A0K2S4Q6</td>\n",
       "      <td>Predicted membrane proteins, Predicted secrete...</td>\n",
       "      <td>NaN</td>\n",
       "      <td>False</td>\n",
       "      <td>False</td>\n",
       "      <td>False</td>\n",
       "      <td>True</td>\n",
       "      <td>False</td>\n",
       "      <td>False</td>\n",
       "      <td>NaN</td>\n",
       "    </tr>\n",
       "  </tbody>\n",
       "</table>\n",
       "</div>"
      ],
      "text/plain": [
       "        Entry  Reviewed   Entry Name  \\\n",
       "0  A0A087X1C5  reviewed  CP2D7_HUMAN   \n",
       "1  A0A0B4J2F0  reviewed  PIOS1_HUMAN   \n",
       "2  A0A0B4J2F2  reviewed  SIK1B_HUMAN   \n",
       "3  A0A0C5B5G6  reviewed  MOTSC_HUMAN   \n",
       "4  A0A0K2S4Q6  reviewed  CD3CH_HUMAN   \n",
       "\n",
       "                                       Protein names Gene Names  \\\n",
       "0        Putative cytochrome P450 2D7 (EC 1.14.14.1)     CYP2D7   \n",
       "1   Protein PIGBOS1 (PIGB opposite strand protein 1)    PIGBOS1   \n",
       "2  Putative serine/threonine-protein kinase SIK1B...      SIK1B   \n",
       "3  Mitochondrial-derived peptide MOTS-c (Mitochon...    MT-RNR1   \n",
       "4  Protein CD300H (CD300 antigen-like family memb...     CD300H   \n",
       "\n",
       "               Organism  Length Gene Names (primary) Gene Names (synonym)  \\\n",
       "0  Homo sapiens (Human)     515               CYP2D7                  NaN   \n",
       "1  Homo sapiens (Human)      54              PIGBOS1                  NaN   \n",
       "2  Homo sapiens (Human)     783                SIK1B                  NaN   \n",
       "3  Homo sapiens (Human)      16              MT-RNR1                  NaN   \n",
       "4  Homo sapiens (Human)     201               CD300H                  NaN   \n",
       "\n",
       "                                            Keywords     Uniprot  \\\n",
       "0  Cytoplasm;Glycoprotein;Heme;Iron;Membrane;Meta...         NaN   \n",
       "1  Direct protein sequencing;Membrane;Mitochondri...  A0A0B4J2F0   \n",
       "2  ATP-binding;Kinase;Magnesium;Metal-binding;Nuc...         NaN   \n",
       "3  DNA-binding;Mitochondrion;Nucleus;Osteogenesis...         NaN   \n",
       "4  Alternative splicing;Disulfide bond;Glycoprote...  A0A0K2S4Q6   \n",
       "\n",
       "                                       Protein class Disease involvement  \\\n",
       "0                                                NaN                 NaN   \n",
       "1                   Predicted intracellular proteins                 NaN   \n",
       "2                                                NaN                 NaN   \n",
       "3                                                NaN                 NaN   \n",
       "4  Predicted membrane proteins, Predicted secrete...                 NaN   \n",
       "\n",
       "  known_transcription_factors known_transporters_channels    FDA   HPA  \\\n",
       "0                         NaN                         NaN    NaN   NaN   \n",
       "1                       False                       False  False  True   \n",
       "2                         NaN                         NaN    NaN   NaN   \n",
       "3                         NaN                         NaN    NaN   NaN   \n",
       "4                       False                       False  False  True   \n",
       "\n",
       "   known_adaptors  known_scaffolds panther_scaffold  \n",
       "0           False            False              NaN  \n",
       "1           False            False              NaN  \n",
       "2           False            False              NaN  \n",
       "3           False            False              NaN  \n",
       "4           False            False              NaN  "
      ]
     },
     "execution_count": 31,
     "metadata": {},
     "output_type": "execute_result"
    }
   ],
   "source": [
    "final_df.head()"
   ]
  },
  {
   "cell_type": "markdown",
   "metadata": {},
   "source": [
    "# "
   ]
  },
  {
   "cell_type": "markdown",
   "metadata": {},
   "source": [
    "# Classify each protein based on keywords and experimental annotations"
   ]
  },
  {
   "cell_type": "code",
   "execution_count": 32,
   "metadata": {},
   "outputs": [],
   "source": [
    "def get_kw_results(df, kw_lst, extra_lst, extra_col):\n",
    "    \n",
    "    kw_results = []\n",
    "    \n",
    "    for index, row in df.iterrows():\n",
    "\n",
    "        current_kw = row['Keywords'].lower()\n",
    "        \n",
    "        count = 0\n",
    "        for i in range(len(kw_lst)):\n",
    "            if kw_lst[i].lower() in current_kw:\n",
    "                count += 1\n",
    "                \n",
    "        extra_kw = str(row[extra_col]).lower()\n",
    "        \n",
    "        for j in range(len(extra_lst)):\n",
    "            if extra_lst[j].lower() in extra_kw:\n",
    "                count += 1\n",
    "                \n",
    "        if count > 0:\n",
    "            kw_results.append('yes')\n",
    "        else:\n",
    "            kw_results.append('')\n",
    "            \n",
    "    return kw_results"
   ]
  },
  {
   "cell_type": "code",
   "execution_count": 33,
   "metadata": {},
   "outputs": [],
   "source": [
    "def get_special_kw_results(df, kw_lst, extra_lst, extra_col, special):\n",
    "    kw_results = []\n",
    "    for index, row in df.iterrows():\n",
    "\n",
    "        current_kw = row['Keywords'].lower()\n",
    "        \n",
    "        count = 0\n",
    "        for i in range(len(kw_lst)):\n",
    "            if kw_lst[i].lower() in current_kw:\n",
    "                count += 1\n",
    "                \n",
    "        extra_kw = str(row[extra_col]).lower()\n",
    "        \n",
    "        for j in range(len(extra_lst)):\n",
    "            if extra_lst[j].lower() in extra_kw:\n",
    "                count += 1\n",
    "         \n",
    "        for k in range(len(special)):\n",
    "            known = row[special[k]]\n",
    "            if known == True:\n",
    "                count += 1\n",
    "                \n",
    "        if count > 0:\n",
    "            kw_results.append('yes')\n",
    "        else:\n",
    "            kw_results.append('')\n",
    "            \n",
    "    return kw_results"
   ]
  },
  {
   "cell_type": "markdown",
   "metadata": {},
   "source": [
    "# "
   ]
  },
  {
   "cell_type": "markdown",
   "metadata": {},
   "source": [
    "## Establish keywords for each class "
   ]
  },
  {
   "cell_type": "code",
   "execution_count": 34,
   "metadata": {},
   "outputs": [],
   "source": [
    "tmp = final_df.copy()"
   ]
  },
  {
   "cell_type": "code",
   "execution_count": 35,
   "metadata": {},
   "outputs": [],
   "source": [
    "enzyme_kw = ['enzyme', 'Translocase', 'Glycosyltransferase', 'Oxidoreductase', 'Carboxypeptidase', 'Aminoacyl-tRNA synthetase', 'Kinase', 'Hydrolase', 'Acyltransferase', 'Ligase', 'Transferase', 'Isomerase', 'Exonuclease', 'Dioxygenase', 'Decarboxylase', ' Peroxidase', 'Nucleotidyltransferase', 'Methyltransferase', 'Glycosidase', 'Lyase', 'Helicase', 'Aminopeptidase', 'Aspartyl protease', 'Aminotransferase', ' Transferase', ' Hydrolase', ' Ligase', ' Protease', ' Serine/threonine-protein kinase', ' Glycosyltransferase', ' Kinase', ' Rotamase', ' Oxidoreductase', ' Lyase', ' Endonuclease', ' Protein phosphatase', ' Methyltransferase', ' Helicase', ' Dioxygenase', ' Isomerase', ' DNA-directed DNA polymerase', ' Serine esterase', ' Metalloprotease', ' Thiol protease', ' Nuclease', ' Threonine protease', ' Serine protease', ' Tyrosine-protein kinase', ' Nucleotidyltransferase', 'GTPase', 'DNA polymerase', 'DNA-directed RNA polymerase', 'Redox-active center', 'Multicatalytic endopeptidase']"
   ]
  },
  {
   "cell_type": "code",
   "execution_count": 36,
   "metadata": {},
   "outputs": [],
   "source": [
    "chap_kw = ['chaperone', 'transporter', 'protein transport', 'receptor', 'channel', 'Peroxisome biogenesis', 'coated-pit', 'motor protein']"
   ]
  },
  {
   "cell_type": "code",
   "execution_count": 37,
   "metadata": {},
   "outputs": [],
   "source": [
    "bind_kw = ['DNA-binding', 'RNA-binding', 'Nucleotide-binding', 'Metal-binding', 'NADP', 'NAD', 'FAD', 'FMN', 'Flavoprotein', 'Pyridine nucleotide biosynthesis']"
   ]
  },
  {
   "cell_type": "code",
   "execution_count": 38,
   "metadata": {},
   "outputs": [],
   "source": [
    "trans_kw = ['initiator', 'transcription factor', 'transcription', 'transcription regulation', 'translation regulation', 'activator', 'repressor', 'initiation', 'signal recognition', 'Zinc-finger', 'enhancer', 'GTP', 'GDP', 'ATP', 'ADP', 'ribosomal protein', 'ribonucleoprotein', 'camp', 'cyclin', 'elongation factor']"
   ]
  },
  {
   "cell_type": "code",
   "execution_count": 39,
   "metadata": {},
   "outputs": [],
   "source": [
    "scaff_kw = ['microtubule', 'filament', 'actin', 'hynein', 'dynein', 'intermediate filament', 'adhesion', 'scaffold', 'modulator', 'adaptor', 'adapter', 'calmodulin-binding', 'condensin', 'elongation factor', 'condensation']"
   ]
  },
  {
   "cell_type": "markdown",
   "metadata": {},
   "source": [
    "# "
   ]
  },
  {
   "cell_type": "markdown",
   "metadata": {},
   "source": [
    "## Search columns for specific keywords "
   ]
  },
  {
   "cell_type": "code",
   "execution_count": 40,
   "metadata": {},
   "outputs": [],
   "source": [
    "extra_cols = []\n",
    "extra_words = []\n",
    "enz_results = get_kw_results(tmp, enzyme_kw, extra_words, extra_cols)\n",
    "tmp['enzyme'] = enz_results"
   ]
  },
  {
   "cell_type": "code",
   "execution_count": 41,
   "metadata": {},
   "outputs": [],
   "source": [
    "extra_cols = []\n",
    "extra_words = []\n",
    "bind_results = get_kw_results(tmp, bind_kw, extra_words, extra_cols)\n",
    "tmp['nucleic_acid_and_small_molecule_binding'] = bind_results"
   ]
  },
  {
   "cell_type": "code",
   "execution_count": 42,
   "metadata": {},
   "outputs": [],
   "source": [
    "extra_cols = []\n",
    "extra_words = []\n",
    "special = ['known_transporters_channels']\n",
    "chap_results = get_special_kw_results(tmp, chap_kw, extra_words, extra_cols, special)\n",
    "tmp['chaperone_transporter_channel_receptor'] = chap_results"
   ]
  },
  {
   "cell_type": "code",
   "execution_count": 43,
   "metadata": {},
   "outputs": [],
   "source": [
    "# extra_cols = ['Protein names']\n",
    "# extra_words = ['scaffold', 'adapter', 'modulator', 'adaptor']\n",
    "extra_cols = []\n",
    "extra_words = []\n",
    "special = ['known_scaffolds', 'known_adaptors']\n",
    "scaff_results = get_special_kw_results(tmp, scaff_kw, extra_words, extra_cols, special)\n",
    "tmp['scaffolding_modulator_adaptor'] = scaff_results"
   ]
  },
  {
   "cell_type": "code",
   "execution_count": 44,
   "metadata": {},
   "outputs": [],
   "source": [
    "# extra_cols = ['Gene description']\n",
    "# extra_words = ['initiator', 'enhancer', 'transcription factor', 'activator', 'repressor', 'initiation', 'suppressor']\n",
    "extra_cols = []\n",
    "extra_words = []\n",
    "special = ['known_transcription_factors']\n",
    "trans_results = get_special_kw_results(tmp, trans_kw, extra_words, extra_cols, special)\n",
    "tmp['transcriptional_factor_regulator'] = trans_results"
   ]
  },
  {
   "cell_type": "markdown",
   "metadata": {},
   "source": [
    "# "
   ]
  },
  {
   "cell_type": "markdown",
   "metadata": {},
   "source": [
    "## Determine one class per protein based on order: enzyme > receptor > scaffold > transcription factor > nucleic acid > uncategorized"
   ]
  },
  {
   "cell_type": "code",
   "execution_count": 45,
   "metadata": {},
   "outputs": [],
   "source": [
    "def get_one_class(df):\n",
    "    classes = []\n",
    "    \n",
    "    for index, row in df.iterrows():\n",
    "        classification = ''\n",
    "        \n",
    "        enzyme = row['enzyme']\n",
    "        trans = row['transcriptional_factor_regulator']\n",
    "        bind = row['nucleic_acid_and_small_molecule_binding']\n",
    "        scaff = row['scaffolding_modulator_adaptor']\n",
    "        chap = row['chaperone_transporter_channel_receptor']\n",
    "        \n",
    "        if enzyme == 'yes':\n",
    "            classification = 'Enzyme'\n",
    "            classes.append(classification)\n",
    "            continue\n",
    "        elif chap == 'yes':\n",
    "            classification = 'Chaperone, Transporter, Channel, Receptor'\n",
    "            classes.append(classification)\n",
    "            continue\n",
    "        elif scaff == 'yes':\n",
    "            classification = 'Scaffolding, Modulator, Adaptor'\n",
    "            classes.append(classification)\n",
    "            continue\n",
    "        elif trans == 'yes':\n",
    "            classification = 'Transcriptional Factor, Regulator'\n",
    "            classes.append(classification)\n",
    "            continue\n",
    "        elif bind == 'yes':\n",
    "            classification = 'Nucleic Acid and Small Molecule Binding'\n",
    "            classes.append(classification)\n",
    "            continue\n",
    "        else:\n",
    "            classification = 'Uncategorized'\n",
    "            classes.append(classification)\n",
    "            continue\n",
    "        \n",
    "    return classes"
   ]
  },
  {
   "cell_type": "code",
   "execution_count": 46,
   "metadata": {},
   "outputs": [],
   "source": [
    "classes = get_one_class(tmp)\n",
    "tmp['Classification'] = classes"
   ]
  },
  {
   "cell_type": "code",
   "execution_count": 47,
   "metadata": {},
   "outputs": [
    {
     "data": {
      "text/plain": [
       "Uncategorized                                6725\n",
       "Enzyme                                       4923\n",
       "Chaperone, Transporter, Channel, Receptor    3838\n",
       "Transcriptional Factor, Regulator            3075\n",
       "Scaffolding, Modulator, Adaptor              1159\n",
       "Nucleic Acid and Small Molecule Binding       715\n",
       "Name: Classification, dtype: int64"
      ]
     },
     "execution_count": 47,
     "metadata": {},
     "output_type": "execute_result"
    }
   ],
   "source": [
    "tmp['Classification'].value_counts()"
   ]
  },
  {
   "cell_type": "markdown",
   "metadata": {},
   "source": [
    "# "
   ]
  },
  {
   "cell_type": "markdown",
   "metadata": {},
   "source": [
    "# Write output "
   ]
  },
  {
   "cell_type": "code",
   "execution_count": 48,
   "metadata": {},
   "outputs": [
    {
     "data": {
      "text/html": [
       "<div>\n",
       "<style scoped>\n",
       "    .dataframe tbody tr th:only-of-type {\n",
       "        vertical-align: middle;\n",
       "    }\n",
       "\n",
       "    .dataframe tbody tr th {\n",
       "        vertical-align: top;\n",
       "    }\n",
       "\n",
       "    .dataframe thead th {\n",
       "        text-align: right;\n",
       "    }\n",
       "</style>\n",
       "<table border=\"1\" class=\"dataframe\">\n",
       "  <thead>\n",
       "    <tr style=\"text-align: right;\">\n",
       "      <th></th>\n",
       "      <th>Entry</th>\n",
       "      <th>Reviewed</th>\n",
       "      <th>Entry Name</th>\n",
       "      <th>Protein names</th>\n",
       "      <th>Gene Names</th>\n",
       "      <th>Organism</th>\n",
       "      <th>Length</th>\n",
       "      <th>Gene Names (primary)</th>\n",
       "      <th>Gene Names (synonym)</th>\n",
       "      <th>Keywords</th>\n",
       "      <th>...</th>\n",
       "      <th>HPA</th>\n",
       "      <th>known_adaptors</th>\n",
       "      <th>known_scaffolds</th>\n",
       "      <th>panther_scaffold</th>\n",
       "      <th>enzyme</th>\n",
       "      <th>nucleic_acid_and_small_molecule_binding</th>\n",
       "      <th>chaperone_transporter_channel_receptor</th>\n",
       "      <th>scaffolding_modulator_adaptor</th>\n",
       "      <th>transcriptional_factor_regulator</th>\n",
       "      <th>Classification</th>\n",
       "    </tr>\n",
       "  </thead>\n",
       "  <tbody>\n",
       "    <tr>\n",
       "      <th>0</th>\n",
       "      <td>A0A087X1C5</td>\n",
       "      <td>reviewed</td>\n",
       "      <td>CP2D7_HUMAN</td>\n",
       "      <td>Putative cytochrome P450 2D7 (EC 1.14.14.1)</td>\n",
       "      <td>CYP2D7</td>\n",
       "      <td>Homo sapiens (Human)</td>\n",
       "      <td>515</td>\n",
       "      <td>CYP2D7</td>\n",
       "      <td>NaN</td>\n",
       "      <td>Cytoplasm;Glycoprotein;Heme;Iron;Membrane;Meta...</td>\n",
       "      <td>...</td>\n",
       "      <td>NaN</td>\n",
       "      <td>False</td>\n",
       "      <td>False</td>\n",
       "      <td>NaN</td>\n",
       "      <td>yes</td>\n",
       "      <td>yes</td>\n",
       "      <td></td>\n",
       "      <td></td>\n",
       "      <td></td>\n",
       "      <td>Enzyme</td>\n",
       "    </tr>\n",
       "    <tr>\n",
       "      <th>1</th>\n",
       "      <td>A0A0B4J2F0</td>\n",
       "      <td>reviewed</td>\n",
       "      <td>PIOS1_HUMAN</td>\n",
       "      <td>Protein PIGBOS1 (PIGB opposite strand protein 1)</td>\n",
       "      <td>PIGBOS1</td>\n",
       "      <td>Homo sapiens (Human)</td>\n",
       "      <td>54</td>\n",
       "      <td>PIGBOS1</td>\n",
       "      <td>NaN</td>\n",
       "      <td>Direct protein sequencing;Membrane;Mitochondri...</td>\n",
       "      <td>...</td>\n",
       "      <td>True</td>\n",
       "      <td>False</td>\n",
       "      <td>False</td>\n",
       "      <td>NaN</td>\n",
       "      <td></td>\n",
       "      <td></td>\n",
       "      <td></td>\n",
       "      <td></td>\n",
       "      <td></td>\n",
       "      <td>Uncategorized</td>\n",
       "    </tr>\n",
       "    <tr>\n",
       "      <th>2</th>\n",
       "      <td>A0A0B4J2F2</td>\n",
       "      <td>reviewed</td>\n",
       "      <td>SIK1B_HUMAN</td>\n",
       "      <td>Putative serine/threonine-protein kinase SIK1B...</td>\n",
       "      <td>SIK1B</td>\n",
       "      <td>Homo sapiens (Human)</td>\n",
       "      <td>783</td>\n",
       "      <td>SIK1B</td>\n",
       "      <td>NaN</td>\n",
       "      <td>ATP-binding;Kinase;Magnesium;Metal-binding;Nuc...</td>\n",
       "      <td>...</td>\n",
       "      <td>NaN</td>\n",
       "      <td>False</td>\n",
       "      <td>False</td>\n",
       "      <td>NaN</td>\n",
       "      <td>yes</td>\n",
       "      <td>yes</td>\n",
       "      <td></td>\n",
       "      <td></td>\n",
       "      <td>yes</td>\n",
       "      <td>Enzyme</td>\n",
       "    </tr>\n",
       "    <tr>\n",
       "      <th>3</th>\n",
       "      <td>A0A0C5B5G6</td>\n",
       "      <td>reviewed</td>\n",
       "      <td>MOTSC_HUMAN</td>\n",
       "      <td>Mitochondrial-derived peptide MOTS-c (Mitochon...</td>\n",
       "      <td>MT-RNR1</td>\n",
       "      <td>Homo sapiens (Human)</td>\n",
       "      <td>16</td>\n",
       "      <td>MT-RNR1</td>\n",
       "      <td>NaN</td>\n",
       "      <td>DNA-binding;Mitochondrion;Nucleus;Osteogenesis...</td>\n",
       "      <td>...</td>\n",
       "      <td>NaN</td>\n",
       "      <td>False</td>\n",
       "      <td>False</td>\n",
       "      <td>NaN</td>\n",
       "      <td></td>\n",
       "      <td>yes</td>\n",
       "      <td></td>\n",
       "      <td></td>\n",
       "      <td>yes</td>\n",
       "      <td>Transcriptional Factor, Regulator</td>\n",
       "    </tr>\n",
       "    <tr>\n",
       "      <th>4</th>\n",
       "      <td>A0A0K2S4Q6</td>\n",
       "      <td>reviewed</td>\n",
       "      <td>CD3CH_HUMAN</td>\n",
       "      <td>Protein CD300H (CD300 antigen-like family memb...</td>\n",
       "      <td>CD300H</td>\n",
       "      <td>Homo sapiens (Human)</td>\n",
       "      <td>201</td>\n",
       "      <td>CD300H</td>\n",
       "      <td>NaN</td>\n",
       "      <td>Alternative splicing;Disulfide bond;Glycoprote...</td>\n",
       "      <td>...</td>\n",
       "      <td>True</td>\n",
       "      <td>False</td>\n",
       "      <td>False</td>\n",
       "      <td>NaN</td>\n",
       "      <td></td>\n",
       "      <td></td>\n",
       "      <td></td>\n",
       "      <td></td>\n",
       "      <td></td>\n",
       "      <td>Uncategorized</td>\n",
       "    </tr>\n",
       "  </tbody>\n",
       "</table>\n",
       "<p>5 rows × 26 columns</p>\n",
       "</div>"
      ],
      "text/plain": [
       "        Entry  Reviewed   Entry Name  \\\n",
       "0  A0A087X1C5  reviewed  CP2D7_HUMAN   \n",
       "1  A0A0B4J2F0  reviewed  PIOS1_HUMAN   \n",
       "2  A0A0B4J2F2  reviewed  SIK1B_HUMAN   \n",
       "3  A0A0C5B5G6  reviewed  MOTSC_HUMAN   \n",
       "4  A0A0K2S4Q6  reviewed  CD3CH_HUMAN   \n",
       "\n",
       "                                       Protein names Gene Names  \\\n",
       "0        Putative cytochrome P450 2D7 (EC 1.14.14.1)     CYP2D7   \n",
       "1   Protein PIGBOS1 (PIGB opposite strand protein 1)    PIGBOS1   \n",
       "2  Putative serine/threonine-protein kinase SIK1B...      SIK1B   \n",
       "3  Mitochondrial-derived peptide MOTS-c (Mitochon...    MT-RNR1   \n",
       "4  Protein CD300H (CD300 antigen-like family memb...     CD300H   \n",
       "\n",
       "               Organism  Length Gene Names (primary) Gene Names (synonym)  \\\n",
       "0  Homo sapiens (Human)     515               CYP2D7                  NaN   \n",
       "1  Homo sapiens (Human)      54              PIGBOS1                  NaN   \n",
       "2  Homo sapiens (Human)     783                SIK1B                  NaN   \n",
       "3  Homo sapiens (Human)      16              MT-RNR1                  NaN   \n",
       "4  Homo sapiens (Human)     201               CD300H                  NaN   \n",
       "\n",
       "                                            Keywords  ...   HPA  \\\n",
       "0  Cytoplasm;Glycoprotein;Heme;Iron;Membrane;Meta...  ...   NaN   \n",
       "1  Direct protein sequencing;Membrane;Mitochondri...  ...  True   \n",
       "2  ATP-binding;Kinase;Magnesium;Metal-binding;Nuc...  ...   NaN   \n",
       "3  DNA-binding;Mitochondrion;Nucleus;Osteogenesis...  ...   NaN   \n",
       "4  Alternative splicing;Disulfide bond;Glycoprote...  ...  True   \n",
       "\n",
       "  known_adaptors known_scaffolds panther_scaffold enzyme  \\\n",
       "0          False           False              NaN    yes   \n",
       "1          False           False              NaN          \n",
       "2          False           False              NaN    yes   \n",
       "3          False           False              NaN          \n",
       "4          False           False              NaN          \n",
       "\n",
       "  nucleic_acid_and_small_molecule_binding  \\\n",
       "0                                     yes   \n",
       "1                                           \n",
       "2                                     yes   \n",
       "3                                     yes   \n",
       "4                                           \n",
       "\n",
       "  chaperone_transporter_channel_receptor  scaffolding_modulator_adaptor  \\\n",
       "0                                                                         \n",
       "1                                                                         \n",
       "2                                                                         \n",
       "3                                                                         \n",
       "4                                                                         \n",
       "\n",
       "   transcriptional_factor_regulator                     Classification  \n",
       "0                                                               Enzyme  \n",
       "1                                                        Uncategorized  \n",
       "2                               yes                             Enzyme  \n",
       "3                               yes  Transcriptional Factor, Regulator  \n",
       "4                                                        Uncategorized  \n",
       "\n",
       "[5 rows x 26 columns]"
      ]
     },
     "execution_count": 48,
     "metadata": {},
     "output_type": "execute_result"
    }
   ],
   "source": [
    "tmp.head()"
   ]
  },
  {
   "cell_type": "code",
   "execution_count": 49,
   "metadata": {},
   "outputs": [
    {
     "data": {
      "text/plain": [
       "['Entry',\n",
       " 'Reviewed',\n",
       " 'Entry Name',\n",
       " 'Protein names',\n",
       " 'Gene Names',\n",
       " 'Organism',\n",
       " 'Length',\n",
       " 'Gene Names (primary)',\n",
       " 'Gene Names (synonym)',\n",
       " 'Keywords',\n",
       " 'Uniprot',\n",
       " 'Protein class',\n",
       " 'Disease involvement',\n",
       " 'known_transcription_factors',\n",
       " 'known_transporters_channels',\n",
       " 'FDA',\n",
       " 'HPA',\n",
       " 'known_adaptors',\n",
       " 'known_scaffolds',\n",
       " 'panther_scaffold',\n",
       " 'enzyme',\n",
       " 'nucleic_acid_and_small_molecule_binding',\n",
       " 'chaperone_transporter_channel_receptor',\n",
       " 'scaffolding_modulator_adaptor',\n",
       " 'transcriptional_factor_regulator',\n",
       " 'Classification']"
      ]
     },
     "execution_count": 49,
     "metadata": {},
     "output_type": "execute_result"
    }
   ],
   "source": [
    "tmp.columns.to_list()"
   ]
  },
  {
   "cell_type": "code",
   "execution_count": 50,
   "metadata": {},
   "outputs": [],
   "source": [
    "tmp.to_csv(date + '_uniprot_annotated.csv', index = False)"
   ]
  },
  {
   "cell_type": "code",
   "execution_count": null,
   "metadata": {},
   "outputs": [],
   "source": []
  }
 ],
 "metadata": {
  "kernelspec": {
   "display_name": "Python 3 (ipykernel)",
   "language": "python",
   "name": "python3"
  },
  "language_info": {
   "codemirror_mode": {
    "name": "ipython",
    "version": 3
   },
   "file_extension": ".py",
   "mimetype": "text/x-python",
   "name": "python",
   "nbconvert_exporter": "python",
   "pygments_lexer": "ipython3",
   "version": "3.9.16"
  }
 },
 "nbformat": 4,
 "nbformat_minor": 4
}
